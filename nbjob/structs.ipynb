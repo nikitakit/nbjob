{
 "cells": [
  {
   "cell_type": "markdown",
   "metadata": {},
   "source": [
    "## nbjob.structs - Structs for Jupyter notebooks\n",
    "\n",
    "Lets you define methods in a different cell from the main class.\n",
    "Also lets you add new methods to existing instances of a class.\n",
    "\n",
    "Scroll down to \"Examples\" for documentation"
   ]
  },
  {
   "cell_type": "code",
   "execution_count": 2,
   "metadata": {
    "collapsed": true
   },
   "outputs": [],
   "source": [
    "from types import MethodType"
   ]
  },
  {
   "cell_type": "code",
   "execution_count": 3,
   "metadata": {
    "collapsed": true
   },
   "outputs": [],
   "source": [
    "class Struct(type):    \n",
    "    def __new__(cls, name, bases, dct):\n",
    "        dct['__getattr__'] = cls.getattr\n",
    "        dct['__setattr__'] = cls.setattr\n",
    "        \n",
    "        dct['_methods'] = {}\n",
    "        dct['_initializers'] = {}\n",
    "        \n",
    "        return super(Struct, cls).__new__(cls, name, bases, dct)\n",
    "    \n",
    "    def getattr(self, name):\n",
    "        cls = type(self)\n",
    "        \n",
    "        # Methods\n",
    "        if name in cls._methods:\n",
    "            return MethodType(cls._methods[name], self)\n",
    "        \n",
    "        # Variables (if not already initialized)\n",
    "        if name in self._initializers:\n",
    "            initializer, result_set = self._initializers[name]\n",
    "            initializer(self)\n",
    "            for other_name in result_set:\n",
    "                if other_name == name:\n",
    "                    continue\n",
    "                try:\n",
    "                    object.__getattribute__(self, other_name)\n",
    "                except AttributeError:\n",
    "                    raise AttributeError(\"Initializer for {} failed to initialize {}\".format(name, other_name))\n",
    "                    \n",
    "        \n",
    "        return object.__getattribute__(self, name)\n",
    "    \n",
    "    def setattr(self, name, value):\n",
    "        cls = type(self)\n",
    "        \n",
    "        return object.__setattr__(self, name, value)\n",
    "    \n",
    "    # Maybe TODO: method to generate a class that does away with the indirection"
   ]
  },
  {
   "cell_type": "code",
   "execution_count": 4,
   "metadata": {
    "collapsed": true
   },
   "outputs": [],
   "source": [
    "def impl(cls):\n",
    "    def deco(fn):\n",
    "        assert isinstance(cls, Struct)\n",
    "        cls._methods[fn.__name__] = fn        \n",
    "        return fn\n",
    "    return deco"
   ]
  },
  {
   "cell_type": "code",
   "execution_count": 5,
   "metadata": {
    "collapsed": true
   },
   "outputs": [],
   "source": [
    "class VarCollector(object):\n",
    "    def __init__(self):\n",
    "        self._variables = set()\n",
    "        \n",
    "    def __setattr__(self, name, value):\n",
    "        if name != '_variables':\n",
    "            self._variables.add(name)\n",
    "        \n",
    "        return object.__setattr__(self, name, value)\n",
    "\n",
    "def init(cls, vars=None):\n",
    "    def deco(fn):\n",
    "        nonlocal vars\n",
    "        assert isinstance(cls, Struct)\n",
    "        if vars is None:\n",
    "            # Get variables set from a dummy\n",
    "            # (assumes initializer takes no arguments other than self)\n",
    "            dummy = VarCollector()\n",
    "            fn(dummy)\n",
    "            vars = dummy._variables\n",
    "        \n",
    "        if not vars:\n",
    "            raise Exception(\"Initializer does not set any member variables\")\n",
    "        \n",
    "        vars = set(vars)\n",
    "        for var in vars:\n",
    "            cls._initializers[var] = fn, vars\n",
    "        \n",
    "        return fn\n",
    "    return deco"
   ]
  },
  {
   "cell_type": "code",
   "execution_count": 6,
   "metadata": {
    "collapsed": true
   },
   "outputs": [],
   "source": [
    "# The magic string below signals to the notebook importing machinery that\n",
    "# the examples section below should not be imported into any other modules\n",
    "\n",
    "#NBIMPORT_STOP"
   ]
  },
  {
   "cell_type": "markdown",
   "metadata": {},
   "source": [
    "# Examples"
   ]
  },
  {
   "cell_type": "code",
   "execution_count": 7,
   "metadata": {
    "collapsed": true
   },
   "outputs": [],
   "source": [
    "class Test(metaclass=Struct):\n",
    "    pass"
   ]
  },
  {
   "cell_type": "code",
   "execution_count": 8,
   "metadata": {
    "collapsed": true
   },
   "outputs": [],
   "source": [
    "t = Test()"
   ]
  },
  {
   "cell_type": "code",
   "execution_count": 9,
   "metadata": {
    "collapsed": false
   },
   "outputs": [
    {
     "ename": "AttributeError",
     "evalue": "'Test' object has no attribute 'foo'",
     "output_type": "error",
     "traceback": [
      "\u001b[1;31m---------------------------------------------------------------------------\u001b[0m",
      "\u001b[1;31mAttributeError\u001b[0m                            Traceback (most recent call last)",
      "\u001b[1;32m<ipython-input-9-3036adc0904a>\u001b[0m in \u001b[0;36m<module>\u001b[1;34m()\u001b[0m\n\u001b[1;32m----> 1\u001b[1;33m \u001b[0mt\u001b[0m\u001b[1;33m.\u001b[0m\u001b[0mfoo\u001b[0m\u001b[1;33m(\u001b[0m\u001b[1;33m)\u001b[0m\u001b[1;33m\u001b[0m\u001b[0m\n\u001b[0m",
      "\u001b[1;32m<ipython-input-3-8e59b60d176c>\u001b[0m in \u001b[0;36mgetattr\u001b[1;34m(self, name)\u001b[0m\n\u001b[0;32m     29\u001b[0m \u001b[1;33m\u001b[0m\u001b[0m\n\u001b[0;32m     30\u001b[0m \u001b[1;33m\u001b[0m\u001b[0m\n\u001b[1;32m---> 31\u001b[1;33m         \u001b[1;32mreturn\u001b[0m \u001b[0mobject\u001b[0m\u001b[1;33m.\u001b[0m\u001b[0m__getattribute__\u001b[0m\u001b[1;33m(\u001b[0m\u001b[0mself\u001b[0m\u001b[1;33m,\u001b[0m \u001b[0mname\u001b[0m\u001b[1;33m)\u001b[0m\u001b[1;33m\u001b[0m\u001b[0m\n\u001b[0m\u001b[0;32m     32\u001b[0m \u001b[1;33m\u001b[0m\u001b[0m\n\u001b[0;32m     33\u001b[0m     \u001b[1;32mdef\u001b[0m \u001b[0msetattr\u001b[0m\u001b[1;33m(\u001b[0m\u001b[0mself\u001b[0m\u001b[1;33m,\u001b[0m \u001b[0mname\u001b[0m\u001b[1;33m,\u001b[0m \u001b[0mvalue\u001b[0m\u001b[1;33m)\u001b[0m\u001b[1;33m:\u001b[0m\u001b[1;33m\u001b[0m\u001b[0m\n",
      "\u001b[1;31mAttributeError\u001b[0m: 'Test' object has no attribute 'foo'"
     ]
    }
   ],
   "source": [
    "t.foo()"
   ]
  },
  {
   "cell_type": "code",
   "execution_count": 13,
   "metadata": {
    "collapsed": false
   },
   "outputs": [
    {
     "ename": "AttributeError",
     "evalue": "'Test' object has no attribute 'counter'",
     "output_type": "error",
     "traceback": [
      "\u001b[1;31m---------------------------------------------------------------------------\u001b[0m",
      "\u001b[1;31mAttributeError\u001b[0m                            Traceback (most recent call last)",
      "\u001b[1;32m<ipython-input-13-078ed4dae35a>\u001b[0m in \u001b[0;36m<module>\u001b[1;34m()\u001b[0m\n\u001b[1;32m----> 1\u001b[1;33m \u001b[0mt\u001b[0m\u001b[1;33m.\u001b[0m\u001b[0mcounter\u001b[0m\u001b[1;33m\u001b[0m\u001b[0m\n\u001b[0m",
      "\u001b[1;32m<ipython-input-3-8e59b60d176c>\u001b[0m in \u001b[0;36mgetattr\u001b[1;34m(self, name)\u001b[0m\n\u001b[0;32m     29\u001b[0m \u001b[1;33m\u001b[0m\u001b[0m\n\u001b[0;32m     30\u001b[0m \u001b[1;33m\u001b[0m\u001b[0m\n\u001b[1;32m---> 31\u001b[1;33m         \u001b[1;32mreturn\u001b[0m \u001b[0mobject\u001b[0m\u001b[1;33m.\u001b[0m\u001b[0m__getattribute__\u001b[0m\u001b[1;33m(\u001b[0m\u001b[0mself\u001b[0m\u001b[1;33m,\u001b[0m \u001b[0mname\u001b[0m\u001b[1;33m)\u001b[0m\u001b[1;33m\u001b[0m\u001b[0m\n\u001b[0m\u001b[0;32m     32\u001b[0m \u001b[1;33m\u001b[0m\u001b[0m\n\u001b[0;32m     33\u001b[0m     \u001b[1;32mdef\u001b[0m \u001b[0msetattr\u001b[0m\u001b[1;33m(\u001b[0m\u001b[0mself\u001b[0m\u001b[1;33m,\u001b[0m \u001b[0mname\u001b[0m\u001b[1;33m,\u001b[0m \u001b[0mvalue\u001b[0m\u001b[1;33m)\u001b[0m\u001b[1;33m:\u001b[0m\u001b[1;33m\u001b[0m\u001b[0m\n",
      "\u001b[1;31mAttributeError\u001b[0m: 'Test' object has no attribute 'counter'"
     ]
    }
   ],
   "source": [
    "t.counter"
   ]
  },
  {
   "cell_type": "code",
   "execution_count": 11,
   "metadata": {
    "collapsed": true
   },
   "outputs": [],
   "source": [
    "@impl(Test)\n",
    "def foo(self):\n",
    "    print(self)"
   ]
  },
  {
   "cell_type": "code",
   "execution_count": 12,
   "metadata": {
    "collapsed": false
   },
   "outputs": [
    {
     "name": "stdout",
     "output_type": "stream",
     "text": [
      "<__main__.Test object at 0x7f8b1d61a748>\n"
     ]
    }
   ],
   "source": [
    "t.foo()"
   ]
  },
  {
   "cell_type": "code",
   "execution_count": 14,
   "metadata": {
    "collapsed": true
   },
   "outputs": [],
   "source": [
    "@init(Test)\n",
    "def _(self):\n",
    "    self.counter = 0\n",
    "\n",
    "@impl(Test)\n",
    "def bar(self, inc):\n",
    "    self.counter += inc\n",
    "    return self.counter"
   ]
  },
  {
   "cell_type": "code",
   "execution_count": 15,
   "metadata": {
    "collapsed": false
   },
   "outputs": [
    {
     "data": {
      "text/plain": [
       "2"
      ]
     },
     "execution_count": 15,
     "metadata": {},
     "output_type": "execute_result"
    }
   ],
   "source": [
    "t.bar(2)"
   ]
  },
  {
   "cell_type": "code",
   "execution_count": 16,
   "metadata": {
    "collapsed": false
   },
   "outputs": [
    {
     "data": {
      "text/plain": [
       "7"
      ]
     },
     "execution_count": 16,
     "metadata": {},
     "output_type": "execute_result"
    }
   ],
   "source": [
    "t.bar(5)"
   ]
  },
  {
   "cell_type": "code",
   "execution_count": 17,
   "metadata": {
    "collapsed": false
   },
   "outputs": [
    {
     "data": {
      "text/plain": [
       "7"
      ]
     },
     "execution_count": 17,
     "metadata": {},
     "output_type": "execute_result"
    }
   ],
   "source": [
    "t.counter"
   ]
  }
 ],
 "metadata": {
  "kernelspec": {
   "display_name": "Python 3",
   "language": "python",
   "name": "python3"
  },
  "language_info": {
   "codemirror_mode": {
    "name": "ipython",
    "version": 3
   },
   "file_extension": ".py",
   "mimetype": "text/x-python",
   "name": "python",
   "nbconvert_exporter": "python",
   "pygments_lexer": "ipython3",
   "version": "3.4.3"
  }
 },
 "nbformat": 4,
 "nbformat_minor": 0
}
