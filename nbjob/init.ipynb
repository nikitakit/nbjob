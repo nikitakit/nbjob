{
 "cells": [
  {
   "cell_type": "markdown",
   "metadata": {},
   "source": [
    "# nbjob\n",
    "\n",
    "This file contains the core code for `nbjob`."
   ]
  },
  {
   "cell_type": "code",
   "execution_count": 3,
   "metadata": {
    "collapsed": false
   },
   "outputs": [],
   "source": [
    "try:\n",
    "    # When this file is run as part of the nbjob package, relative imports are allowed\n",
    "    from .structs import Struct, impl, init\n",
    "    from . import ipyparallel_display\n",
    "except SystemError:\n",
    "    # This file is a Jupyter notebook precisely to allow opening it in Jupyter\n",
    "    # during development. Don't use relative imports here\n",
    "    import notebook_import_hooks\n",
    "    from nbjob_dev.structs import Struct, impl, init\n",
    "    import nbjob_dev.ipyparallel_display"
   ]
  },
  {
   "cell_type": "code",
   "execution_count": null,
   "metadata": {
    "collapsed": true
   },
   "outputs": [],
   "source": []
  },
  {
   "cell_type": "markdown",
   "metadata": {},
   "source": [
    "### Hack to fix behavior of inspect module\n",
    "See: https://bugs.python.org/issue12920"
   ]
  },
  {
   "cell_type": "code",
   "execution_count": 4,
   "metadata": {
    "collapsed": true
   },
   "outputs": [],
   "source": [
    "import inspect, sys\n",
    "\n",
    "def new_getfile(object, _old_getfile=inspect.getfile):\n",
    "    if not inspect.isclass(object):\n",
    "        return _old_getfile(object)\n",
    "    \n",
    "    # Lookup by parent module\n",
    "    if hasattr(object, '__module__'):\n",
    "        object_ = sys.modules.get(object.__module__)\n",
    "        if hasattr(object_, '__file__'):\n",
    "            return object_.__file__\n",
    "    \n",
    "    # If parent module is __main__, lookup by methods\n",
    "    for name, member in inspect.getmembers(object):\n",
    "        if inspect.isfunction(member) and object.__qualname__ + '.' + member.__name__ == member.__qualname__:\n",
    "            return inspect.getfile(member)\n",
    "    else:\n",
    "        raise TypeError('Source for {!r} not found'.format(object))\n",
    "inspect.getfile = new_getfile"
   ]
  },
  {
   "cell_type": "markdown",
   "metadata": {},
   "source": [
    "## MongoDB job database"
   ]
  },
  {
   "cell_type": "code",
   "execution_count": 6,
   "metadata": {
    "collapsed": true
   },
   "outputs": [],
   "source": [
    "from pymongo import MongoClient\n",
    "from bson.objectid import ObjectId"
   ]
  },
  {
   "cell_type": "code",
   "execution_count": 7,
   "metadata": {
    "collapsed": true
   },
   "outputs": [],
   "source": [
    "class DBWrapper(metaclass=Struct):\n",
    "    def __init__(self, *args, **kwargs):\n",
    "        self.client = MongoClient()\n",
    "        self.db = self.client.db\n",
    "        self.entries = self.db.entries_test\n",
    "    \n",
    "    def get_entry(self, _id):\n",
    "        from bson.objectid import ObjectId\n",
    "        return Entry(self, ObjectId(_id))\n",
    "    \n",
    "    def root_entry(self):\n",
    "        res = self.entries.insert_one({\n",
    "                'type' : Entry.TYPE_CHECKPOINT,\n",
    "                'names' : [],\n",
    "                'prev' : None\n",
    "            })\n",
    "        \n",
    "        return Entry(self, res.inserted_id)"
   ]
  },
  {
   "cell_type": "code",
   "execution_count": 8,
   "metadata": {
    "collapsed": true
   },
   "outputs": [],
   "source": [
    "class Entry(object):\n",
    "    TYPE_SRC = 'src'\n",
    "    TYPE_CHECKPOINT = 'checkpoint'\n",
    "    TYPE_BINARY = 'binary'\n",
    "    \n",
    "    valid_types = [TYPE_SRC, TYPE_CHECKPOINT, TYPE_BINARY]\n",
    "    def __init__(self, wrapper, _id):\n",
    "        self.wrapper = wrapper\n",
    "        self._id = _id\n",
    "        self._data = None\n",
    "        \n",
    "    @property\n",
    "    def prev(self):\n",
    "        prev_id = self.wrapper.entries.find_one({'_id' : self._id}, {'prev' : True})['prev']\n",
    "        if prev_id is None:\n",
    "            return None\n",
    "        else:\n",
    "            return Entry(self.wrapper, prev_id)\n",
    "    \n",
    "    @property\n",
    "    def type(self):\n",
    "        res = self.wrapper.entries.find_one({'_id' : self._id}, {'type' : True})['type']\n",
    "        assert (res in Entry.valid_types)\n",
    "        return res\n",
    "    \n",
    "    @property\n",
    "    def names(self):\n",
    "        res = self.wrapper.entries.find_one({'_id' : self._id}, {'names' : True})['names']\n",
    "        res = set(res)\n",
    "        return res\n",
    "    \n",
    "    # TYPE_SRC\n",
    "    \n",
    "    @property\n",
    "    def src(self):\n",
    "        if self.type != Entry.TYPE_SRC:\n",
    "            return \"\"\n",
    "        res = self.wrapper.entries.find_one({'_id' : self._id}, {'src' : True})['src']\n",
    "        return res\n",
    "    \n",
    "    # All types\n",
    "    def new(self, *args, **kwargs):\n",
    "        arg1, *_ = args\n",
    "        if isinstance(arg1, list):\n",
    "            return self._new_history(*args, **kwargs)\n",
    "        else:\n",
    "            raise NotImplementedError()\n",
    "\n",
    "    def _new_history(self, history):\n",
    "        current = self\n",
    "        for names, src in history:\n",
    "            current = current._new_entry(type=Entry.TYPE_SRC, names=names, src=src)\n",
    "        return current\n",
    "    \n",
    "    def _new_entry(self, type, names=set(), src=\"\"):\n",
    "        d = {}\n",
    "        if type == Entry.TYPE_SRC:\n",
    "            if not (isinstance(names, set) and isinstance(src, str)):\n",
    "                raise ValueError()\n",
    "            d['type'] = type\n",
    "            d['names'] = list(names)\n",
    "            d['src'] = src\n",
    "            d['prev'] = self._id\n",
    "        elif type == Entry.TYPE_CHECKPOINT:\n",
    "            d['type'] = type\n",
    "            if names != set():\n",
    "                raise ValueError()\n",
    "            d['names'] = []\n",
    "            d['prev'] = self._id\n",
    "        else:\n",
    "            raise ValueError(\"Invalid type\")\n",
    "            \n",
    "        new_id = self.wrapper.entries.insert_one(d).inserted_id\n",
    "        return Entry(self.wrapper, new_id)\n",
    "    \n",
    "    def checkpoint(self):\n",
    "        return self._new_entry(type=Entry.TYPE_CHECKPOINT)\n",
    "    \n",
    "    def __repr__(self):\n",
    "        if self._id is None:\n",
    "            return \"Entry()\"\n",
    "        else:\n",
    "            return repr(self._id).replace('ObjectId', 'Entry')\n",
    "        \n",
    "    @property\n",
    "    def history(self):\n",
    "        res = []\n",
    "        current = self\n",
    "        num_checkpoints = 0\n",
    "        checkpoint_names = set()\n",
    "        while current is not None:\n",
    "            if current.type == 'src':\n",
    "                if num_checkpoints or checkpoint_names:\n",
    "                    res.append((checkpoint_names, '#Omitted {} checkpoints'.format(num_checkpoints)))\n",
    "                    num_checkpoints = 0\n",
    "                    checkpoint_names = set()\n",
    "                res.append((current.names, current.src))\n",
    "            elif current.type == 'checkpoint':\n",
    "                num_checkpoints += 1\n",
    "            elif current.type == 'binary':\n",
    "                checkpoint_names |= current.names\n",
    "            current = current.prev\n",
    "        res = res[::-1]\n",
    "        return res"
   ]
  },
  {
   "cell_type": "code",
   "execution_count": 56,
   "metadata": {
    "collapsed": true
   },
   "outputs": [],
   "source": [
    "class DummyJobtracker():\n",
    "    def checkpoint(self):\n",
    "        pass\n",
    "    \n",
    "    def register_checkpointer(self, varname, gettername=None, settername=None):\n",
    "        # Sanity check\n",
    "        import __main__, pickle\n",
    "        if gettername is not None:\n",
    "            getter = eval(gettername, __main__.__dict__)\n",
    "        else:\n",
    "            getter = lambda: eval(varname, __main__.__dict__)\n",
    "\n",
    "        if settername is not None:\n",
    "            setter = eval(settername, __main__.__dict__)\n",
    "        else:\n",
    "            def setter(val):\n",
    "                __main__.__dict__['_setter_proxy'] = val\n",
    "                exec(\"{} = _setter_proxy\".format(varname), __main__.__dict__)\n",
    "                del __main__.__dict__['_setter_proxy']\n",
    "\n",
    "        vals = getter()\n",
    "        setter(pickle.loads(pickle.dumps(vals)))\n",
    "        vals2 = getter()"
   ]
  },
  {
   "cell_type": "code",
   "execution_count": 10,
   "metadata": {
    "collapsed": true
   },
   "outputs": [],
   "source": [
    "def remote_create_job():\n",
    "    \"\"\"\n",
    "    First entry point for code executed on the remote end\n",
    "    \n",
    "    This creates a job tracker and returns its job id to the main system\n",
    "    \"\"\"\n",
    "    import bson, pickle\n",
    "    # Job tracker class\n",
    "    class JobTracker():\n",
    "        def __init__(self, old_tracker=None):\n",
    "            from pymongo import MongoClient\n",
    "            import socket, os, time, datetime, pwd\n",
    "            self.client = MongoClient()\n",
    "            self.entries = self.client.db.entries_test\n",
    "            self.jobs = self.client.db.jobs_test\n",
    "            self.checkpointers = []\n",
    "            self.old_tracker = old_tracker\n",
    "            \n",
    "            login = pwd.getpwuid(os.getuid())[0]\n",
    "            \n",
    "            self.job = {\n",
    "                    'name' : (time.strftime(\"%Y-%m-%dT%H:%M:%S\") + \"-\" +\n",
    "                              login + \"@\" + socket.gethostname() + \":\" + str(os.getpid())),\n",
    "                    'entry' : None,\n",
    "                    'status' : 'Starting...',\n",
    "                    'start_time' : datetime.datetime.now(),\n",
    "                    'hostname' : socket.gethostname(),\n",
    "                    'pid' : os.getpid(),\n",
    "                    'user': login,\n",
    "                    'stop_time' : None\n",
    "                }\n",
    "            self.jobs.insert_one(self.job) # Tell others that we're online\n",
    "        \n",
    "        def start(self, entry_id):\n",
    "            from bson.objectid import ObjectId\n",
    "            self.entry = self.entries.find_one({'_id' : ObjectId(entry_id)})\n",
    "            new_job = self.job.copy()\n",
    "            new_job['entry'] = self.entry['_id']\n",
    "            self.jobs.replace_one(self.job, new_job)\n",
    "            self.job = new_job\n",
    "        \n",
    "        def finalize(self):\n",
    "            import datetime\n",
    "            new_job = self.job.copy()\n",
    "            new_job['stop_time'] = datetime.datetime.now()\n",
    "            self.jobs.replace_one(self.job, new_job)\n",
    "            self.job = new_job\n",
    "        \n",
    "        def change_status(self, new_status):\n",
    "            print('NEW JOB STATUS:', new_status)\n",
    "            new_job = self.job.copy()\n",
    "            new_job['status'] = new_status\n",
    "            self.jobs.replace_one(self.job, new_job)\n",
    "            self.job = new_job\n",
    "\n",
    "        def register_checkpointer(self, varname, gettername=None, settername=None):\n",
    "            # Sanity check\n",
    "            import __main__\n",
    "            if gettername is not None:\n",
    "                getter = eval(gettername, __main__.__dict__)\n",
    "            else:\n",
    "                getter = lambda: eval(varname, __main__.__dict__)\n",
    "\n",
    "            if settername is not None:\n",
    "                setter = eval(settername, __main__.__dict__)\n",
    "            else:\n",
    "                def setter(val):\n",
    "                    __main__.__dict__['_setter_proxy'] = val\n",
    "                    exec(\"{} = _setter_proxy\".format(varname), __main__.__dict__)\n",
    "                    del __main__.__dict__['_setter_proxy']\n",
    "\n",
    "            vals = getter()\n",
    "            setter(pickle.loads(pickle.dumps(vals)))\n",
    "            vals2 = getter()\n",
    "            #assert (vals == vals2)\n",
    "            self.checkpointers.append((varname, gettername, settername))\n",
    "\n",
    "        def checkpoint(self):\n",
    "            # Perform any checkpoint operations\n",
    "            print('Checkpointing!')\n",
    "            for varname, gettername, settername in self.checkpointers:\n",
    "                if gettername is not None:\n",
    "                    getter = eval(gettername)\n",
    "                else:\n",
    "                    getter = lambda: eval(varname)\n",
    "                vals = getter()\n",
    "                d = {\n",
    "                        'type' : 'binary',\n",
    "                        'names' : [varname],\n",
    "                        'prev' : self.entry['_id'],\n",
    "                        'setter' : settername,\n",
    "                        'data' : bson.binary.Binary(pickle.dumps(vals)),\n",
    "                    }\n",
    "                new_id = self.entries.insert_one(d).inserted_id\n",
    "                self.entry = self.entries.find_one({'_id' : new_id})\n",
    "\n",
    "            # Add an actual checkpoint\n",
    "            d = {\n",
    "                    'type' : 'checkpoint',\n",
    "                    'names' : [],\n",
    "                    'prev' : self.entry['_id']\n",
    "                }\n",
    "            new_id = self.entries.insert_one(d).inserted_id\n",
    "            self.entry = self.entries.find_one({'_id' : new_id})\n",
    "\n",
    "            # Update the jobs queue\n",
    "            new_job = self.job.copy()\n",
    "            new_job['entry'] = new_id\n",
    "            self.jobs.replace_one(self.job, new_job)\n",
    "            self.job = new_job\n",
    "    \n",
    "    global _jobtracker\n",
    "    \n",
    "    # First, figure out if there is an old job tracker remaining\n",
    "    old_tracker = None\n",
    "    try:\n",
    "        old_tracker = _jobtracker # TODO: better namespacing\n",
    "    except:\n",
    "        pass\n",
    "    \n",
    "    _jobtracker = JobTracker(old_tracker)\n",
    "    \n",
    "    return str(_jobtracker.job['_id'])"
   ]
  },
  {
   "cell_type": "code",
   "execution_count": 11,
   "metadata": {
    "collapsed": true
   },
   "outputs": [],
   "source": [
    "def remote_start_job(entry_id, run_commands, tracker_name=None):\n",
    "    \"\"\"\n",
    "    Main entry point for code executed on the remote end\n",
    "    \n",
    "    entry_id: starting entry in the entry table, with which to begin execution\n",
    "    run_commands: commands to run in the process of doing the job\n",
    "    tracker_name: global name under which to expose the job tracker\n",
    "    \"\"\"\n",
    "    global _jobtracker\n",
    "    \n",
    "    jobtracker = _jobtracker # Move it into the local namespace\n",
    "    old_tracker = jobtracker.old_tracker\n",
    "    \n",
    "    jobtracker.start(entry_id)\n",
    "    \n",
    "    # Try to inherit information from the old job tracker. Otherwise, assume we are starting from scratch\n",
    "    from bson.objectid import ObjectId\n",
    "    \n",
    "    current_entry_id = None\n",
    "    if old_tracker:\n",
    "        try:\n",
    "            current_entry_id = old_tracker.entry['_id']\n",
    "            if not isinstance(current_entry_id, ObjectId):\n",
    "                current_entry_id = None\n",
    "        except:\n",
    "            pass\n",
    "\n",
    "        try:\n",
    "            jobtracker.checkpointers = old_tracker.checkpointers\n",
    "        except:\n",
    "            jobtracker.checkpointers = []\n",
    "            \n",
    "    # Let the old tracker be garbage-collected\n",
    "    del old_tracker\n",
    "    del jobtracker.old_tracker\n",
    "    \n",
    "    try:        \n",
    "        # Figure out what history we need to replay\n",
    "        jobtracker.change_status('Determining history to replay')\n",
    "        seen = set()\n",
    "        history = []\n",
    "        ptr_entry = jobtracker.entry\n",
    "        print(\"old entry id is\", current_entry_id)\n",
    "        # TODO: can't replay binary data here. Maybe we actually do want the ability for\n",
    "        #       binary nodes here, such as for datasets\n",
    "        while ptr_entry['_id'] != current_entry_id:\n",
    "            if ptr_entry['type'] == 'src':\n",
    "                names = set(ptr_entry['names'])\n",
    "                do_add = True\n",
    "                if None in names:\n",
    "                    seen |= names\n",
    "                elif names - seen:\n",
    "                    seen |= names\n",
    "                else:\n",
    "                    # All names have already been seen, so skip populating history\n",
    "                    do_add = False\n",
    "                \n",
    "                if do_add:\n",
    "                    #print(\"adding history from entry\", ptr_entry['_id'])\n",
    "                    src = ptr_entry['src']\n",
    "                    history.append(src)\n",
    "                \n",
    "            if ptr_entry['prev'] is None:\n",
    "                history.append(\"%reset -f\")\n",
    "                break\n",
    "            else:\n",
    "                ptr_entry = jobtracker.entries.find_one({'_id':ptr_entry['prev']})\n",
    "\n",
    "        _jobtracker = jobtracker\n",
    "        if tracker_name is not None:\n",
    "            globals()[tracker_name] = jobtracker\n",
    "                \n",
    "        history = history[::-1]\n",
    "\n",
    "        jobtracker.change_status('Replaying history')\n",
    "        for cell in history:\n",
    "            #print('Running:', cell)\n",
    "            res = get_ipython().run_cell(cell).raise_error()\n",
    "            if cell.startswith(\"%reset\"):\n",
    "                # We just reset the namespace, so return jobtracker to it\n",
    "                _jobtracker = jobtracker\n",
    "                if tracker_name is not None:\n",
    "                    globals()[tracker_name] = jobtracker\n",
    "\n",
    "        jobtracker.change_status('Running commands')\n",
    "        for cmd in run_commands:\n",
    "            #print('Running:', cmd)\n",
    "            res = get_ipython().run_cell(cmd).raise_error()\n",
    "        \n",
    "        jobtracker.change_status('Job complete')\n",
    "        jobtracker.finalize()\n",
    "    except:\n",
    "        # Best effort to notify of exception\n",
    "        jobtracker.change_status('Terminated due to exception')\n",
    "        jobtracker.finalize()\n",
    "        raise"
   ]
  },
  {
   "cell_type": "code",
   "execution_count": 12,
   "metadata": {
    "collapsed": true
   },
   "outputs": [],
   "source": [
    "def remote_create_analyzer():\n",
    "    \"\"\"\n",
    "    First entry point for code executed on the remote end\n",
    "    \n",
    "    This creates an analyzer and returns its analysis id to the main system\n",
    "    \"\"\"\n",
    "    from bson.objectid import ObjectId\n",
    "    \n",
    "    # Job tracker class\n",
    "    class AnalysisTracker():\n",
    "        def __init__(self, old_tracker=None):\n",
    "            from pymongo import MongoClient\n",
    "            import socket, os, time, datetime, pwd\n",
    "            self.client = MongoClient()\n",
    "            self.entries = self.client.db.entries_test\n",
    "            self.analysis_entries = self.client.db.analysis_entries_test\n",
    "            self.jobs = self.client.db.jobs_test\n",
    "            self.analyses = self.client.db.analyses_test\n",
    "            self.analyzers = []\n",
    "            self.old_tracker = old_tracker\n",
    "            \n",
    "            login = pwd.getpwuid(os.getuid())[0]\n",
    "            \n",
    "            self.analysis = {\n",
    "                    'name' : (time.strftime(\"%Y-%m-%dT%H:%M:%S\") + \"-\" +\n",
    "                              login + \"@\" + socket.gethostname() + \":\" + str(os.getpid())),\n",
    "                    'job' : None,\n",
    "                    'analysis_entry' : None,\n",
    "                    'status' : 'Starting...',\n",
    "                    'start_time' : datetime.datetime.now(),\n",
    "                    'hostname' : socket.gethostname(),\n",
    "                    'pid' : os.getpid(),\n",
    "                    'user': login,\n",
    "                    'stop_time' : None\n",
    "                }\n",
    "            self.analyses.insert_one(self.analysis) # Tell others that we're online\n",
    "            \n",
    "        def latest_entry_for_job(self):\n",
    "            return self.entries.find_one(\n",
    "                {'_id' : self.jobs.find_one({'_id' : self.analysis['job']})['entry']})\n",
    "        \n",
    "        def start(self, job_id): # TODO\n",
    "            assert isinstance(job_id, str)\n",
    "            self.analysis_entry = {'_id':None}\n",
    "            \n",
    "            new_analysis = self.analysis.copy()\n",
    "            new_analysis['job'] = ObjectId(job_id)\n",
    "            self.analyses.replace_one(self.analysis, new_analysis)\n",
    "            self.analysis = new_analysis\n",
    "        \n",
    "        def finalize(self): # TODO\n",
    "            import datetime\n",
    "            new_analysis = self.analysis.copy()\n",
    "            new_analysis['stop_time'] = datetime.datetime.now()\n",
    "            self.analyses.replace_one(self.analysis, new_analysis)\n",
    "            self.analysis = new_analysis\n",
    "        \n",
    "        def change_status(self, new_status): # TODO\n",
    "            print('NEW ANALYSIS STATUS:', new_status)\n",
    "            new_analysis = self.analysis.copy()\n",
    "            new_analysis['status'] = new_status\n",
    "            self.analyses.replace_one(self.analysis, new_analysis)\n",
    "            self.analysis = new_analysis\n",
    "\n",
    "        def register_analyzer(self, fn):\n",
    "            # Sanity check\n",
    "            res = fn()\n",
    "            assert isinstance(res, dict)\n",
    "            \n",
    "            self.analyzers.append(fn)\n",
    "\n",
    "        def analyze(self, checkpoint):\n",
    "            # Perform any checkpoint operations\n",
    "            assert isinstance(checkpoint, ObjectId)\n",
    "            analysis_entry = {'checkpoint': checkpoint,\n",
    "                             'prev' : self.analysis_entry['_id']}\n",
    "            \n",
    "            for fn in self.analyzers:\n",
    "                analysis_entry.update(fn())\n",
    "\n",
    "            new_id = self.analysis_entries.insert_one(analysis_entry).inserted_id\n",
    "            self.analysis_entry = self.analysis_entries.find_one({'_id' : new_id})\n",
    "\n",
    "            # Update the tracking info\n",
    "            new_analysis = self.analysis.copy()\n",
    "            new_analysis['analysis_entry'] = new_id\n",
    "            self.analyses.replace_one(self.analysis, new_analysis)\n",
    "            self.analysis = new_analysis\n",
    "    \n",
    "    global _analysistracker\n",
    "    \n",
    "    # First, figure out if there is an old job tracker remaining\n",
    "    old_tracker = None\n",
    "    try:\n",
    "        old_tracker = _analysistracker # TODO: better namespacing\n",
    "    except:\n",
    "        pass\n",
    "    \n",
    "    _analysistracker = AnalysisTracker(old_tracker)\n",
    "    \n",
    "    return str(_analysistracker.analysis['_id'])"
   ]
  },
  {
   "cell_type": "code",
   "execution_count": 13,
   "metadata": {
    "collapsed": true
   },
   "outputs": [],
   "source": [
    "def remote_start_analyzer(job_id, analyzers, tracker_name=None, job_tracker_name=None):\n",
    "    \"\"\"\n",
    "    Main entry point for code executed on the remote end\n",
    "    \n",
    "    entry_id: starting entry in the entry table, with which to begin execution\n",
    "    run_commands: commands to run in the process of doing the job\n",
    "    tracker_name: global name under which to expose the job tracker\n",
    "    \"\"\"\n",
    "    global _analysistracker\n",
    "    \n",
    "    analysistracker = _analysistracker # Move it into the local namespace\n",
    "    old_tracker = analysistracker.old_tracker\n",
    "    \n",
    "    analysistracker.start(job_id)\n",
    "    \n",
    "    # Try to inherit information from the old job tracker. Otherwise, assume we are starting from scratch\n",
    "    from bson.objectid import ObjectId\n",
    "    import pickle\n",
    "    \n",
    "    current_entry_id = None\n",
    "    if old_tracker:\n",
    "        try:\n",
    "            current_entry_id = old_tracker.entry['_id']\n",
    "            if not isinstance(current_entry_id, ObjectId):\n",
    "                current_entry_id = None\n",
    "        except:\n",
    "            pass\n",
    "            \n",
    "    # Let the old tracker be garbage-collected\n",
    "    del old_tracker\n",
    "    del analysistracker.old_tracker\n",
    "    \n",
    "    # Dummy job tracker\n",
    "    class DummyJobtracker():\n",
    "        def checkpoint(self):\n",
    "            pass\n",
    "        def register_checkpointer(self, varname, gettername=None, settername=None):\n",
    "            pass\n",
    "    \n",
    "    try:        \n",
    "        # Figure out what history we need to replay\n",
    "        analysistracker.change_status('Determining history to replay')\n",
    "        \n",
    "        ptr_entry = analysistracker.latest_entry_for_job()\n",
    "        \n",
    "        print(\"old entry id is\", current_entry_id)\n",
    "        \n",
    "        all_histories = []\n",
    "        current_history = []\n",
    "        current_seen = set()\n",
    "        last_checkpoint = None\n",
    "        while ptr_entry is not None and ptr_entry['_id'] != current_entry_id:\n",
    "            if ptr_entry['type'] == 'src' or ptr_entry['type'] == 'binary':\n",
    "                names = set(ptr_entry['names'])\n",
    "                do_add = True\n",
    "\n",
    "                if None in names:\n",
    "                    current_seen |= names\n",
    "                elif names - current_seen:\n",
    "                    current_seen |= names\n",
    "                else:\n",
    "                    # All names have already been seen, so skip populating history\n",
    "                    do_add = False\n",
    "\n",
    "                if do_add:\n",
    "                    current_history.append(ptr_entry['_id'])\n",
    "\n",
    "            elif ptr_entry['type'] == 'checkpoint':\n",
    "                if current_history and last_checkpoint:\n",
    "                    all_histories.append((last_checkpoint, current_history[::-1]))\n",
    "                last_checkpoint = ptr_entry['_id']\n",
    "                current_history = []\n",
    "                current_seen = set()\n",
    "                \n",
    "            if ptr_entry['prev'] is None:\n",
    "                current_history.append(\"%reset -f\")\n",
    "                break\n",
    "            else:\n",
    "                ptr_entry = analysistracker.entries.find_one({'_id':ptr_entry['prev']},\n",
    "                                                            {'src': False, 'data': False})\n",
    "\n",
    "        _analysistracker = analysistracker\n",
    "        if tracker_name is not None:\n",
    "            globals()[tracker_name] = analysistracker\n",
    "        if job_tracker_name is not None:\n",
    "            globals()[job_tracker_name] = DummyJobtracker()\n",
    "                \n",
    "        all_histories = all_histories[::-1]\n",
    "        current_history = current_history[::-1]\n",
    "        \n",
    "        if all_histories:\n",
    "            # MAJOR HACK: this effective causes the first checkpoint to be ignored\n",
    "            # but in reality, what we need is to have a system that selects the\n",
    "            # checkpoints for which the analysis is valid\n",
    "            temp = all_histories.pop(0)\n",
    "            current_history.extend(temp[1])\n",
    "            \n",
    "        def replay_cell(cell):\n",
    "            global _analysistracker\n",
    "            if isinstance(cell, str):\n",
    "                res = get_ipython().run_cell(cell).raise_error()\n",
    "            else: # if cell is an id\n",
    "                ptr_cell = analysistracker.entries.find_one({'_id': cell})\n",
    "                if ptr_cell['type'] == 'src':\n",
    "                    cell = ptr_cell['src']\n",
    "                    get_ipython().run_cell(cell).raise_error()\n",
    "                elif ptr_cell['type'] == 'binary':\n",
    "                    settername = ptr_cell['setter']\n",
    "                    if settername is not None:\n",
    "                        setter = globals()[settername]\n",
    "                        data = pickle.loads(ptr_cell['data'])\n",
    "                        setter(data)\n",
    "                    else:\n",
    "                        varname = list(ptr_cell['names'])[0]\n",
    "                        global _setter_proxy\n",
    "                        _setter_proxy = pickle.loads(ptr_cell['data'])\n",
    "                        get_ipython().run_cell(\"{} = _setter_proxy\".format(varname)).raise_error()\n",
    "                        del _setter_proxy\n",
    "\n",
    "            if isinstance(cell, str) and cell.startswith(\"%reset\"):\n",
    "                # We just reset the namespace, so return jobtracker to it\n",
    "                _analysistracker = analysistracker\n",
    "                if tracker_name is not None:\n",
    "                    globals()[tracker_name] = analysistracker\n",
    "                if job_tracker_name is not None:\n",
    "                    globals()[job_tracker_name] = DummyJobtracker()\n",
    "        \n",
    "        analysistracker.change_status('Replaying initial history')\n",
    "        for cell in current_history:\n",
    "            replay_cell(cell)\n",
    "        \n",
    "        analysistracker.change_status('Registering analyzers')\n",
    "        for analyzer in analyzers:\n",
    "            analysistracker.register_analyzer(analyzer)\n",
    "\n",
    "        analysistracker.change_status('Replaying history for checkpoints')\n",
    "        for checkpoint, history in all_histories:\n",
    "            for cell in history:\n",
    "                replay_cell(cell)\n",
    "            \n",
    "            # Then do snapshotting\n",
    "            analysistracker.analyze(checkpoint)\n",
    "        \n",
    "        analysistracker.change_status('Analysis complete')\n",
    "        analysistracker.finalize()\n",
    "    except:\n",
    "        # Best effort to notify of exception\n",
    "        analysistracker.change_status('Terminated due to exception')\n",
    "        analysistracker.finalize()\n",
    "        raise"
   ]
  },
  {
   "cell_type": "code",
   "execution_count": 14,
   "metadata": {
    "collapsed": true
   },
   "outputs": [],
   "source": [
    "# Hacks so these functions are serialized correctly by the ipyparallel system\n",
    "remote_create_job.__module__  = '__main__'\n",
    "remote_start_job.__module__  = '__main__'\n",
    "remote_create_analyzer.__module__  = '__main__'\n",
    "remote_start_analyzer.__module__  = '__main__'"
   ]
  },
  {
   "cell_type": "markdown",
   "metadata": {},
   "source": [
    "## SnippetCollector"
   ]
  },
  {
   "cell_type": "code",
   "execution_count": 15,
   "metadata": {
    "collapsed": true
   },
   "outputs": [],
   "source": [
    "class SnippetCollector(metaclass=Struct):\n",
    "    def __call__(self, *args, **kwargs): # Special methods currently not supported by structs\n",
    "        return self._call(*args, **kwargs)"
   ]
  },
  {
   "cell_type": "code",
   "execution_count": 16,
   "metadata": {
    "collapsed": true
   },
   "outputs": [],
   "source": [
    "def make_copy(other, shallow=True):\n",
    "    if isinstance(other, SnippetCollector):\n",
    "        history = other.history\n",
    "    else:\n",
    "        history = other\n",
    "    res = SnippetCollector()\n",
    "    \n",
    "    if not shallow:\n",
    "        history = [(k.copy(), v) for k,v in history]\n",
    "    \n",
    "    res.history = history\n",
    "    return res\n",
    "SnippetCollector.make_copy = make_copy"
   ]
  },
  {
   "cell_type": "code",
   "execution_count": 17,
   "metadata": {
    "collapsed": true
   },
   "outputs": [],
   "source": [
    "@impl(SnippetCollector)\n",
    "def _call(self, a):\n",
    "    if '.' in a.__qualname__:\n",
    "        raise Exception('Cannot decorate an inner function or class')\n",
    "    \n",
    "    src = inspect.getsource(a)\n",
    "    if src.startswith(\"@\"):\n",
    "        src = \"def\" + src.split(\"def\", 1)[1]\n",
    "\n",
    "    self.history.append((set([a.__name__]), src))\n",
    "    return a"
   ]
  },
  {
   "cell_type": "code",
   "execution_count": 18,
   "metadata": {
    "collapsed": true
   },
   "outputs": [],
   "source": [
    "@init(SnippetCollector)\n",
    "def _(self):\n",
    "    self.history = []\n",
    "    self.shell = get_ipython()"
   ]
  },
  {
   "cell_type": "code",
   "execution_count": 19,
   "metadata": {
    "collapsed": true
   },
   "outputs": [],
   "source": [
    "@impl(SnippetCollector)\n",
    "def collect(self, src, names=()):\n",
    "    self.history.append((set(names) | set([None]), src))"
   ]
  },
  {
   "cell_type": "code",
   "execution_count": 20,
   "metadata": {
    "collapsed": true
   },
   "outputs": [],
   "source": [
    "from IPython.core.magic import register_cell_magic\n",
    "\n",
    "@register_cell_magic\n",
    "def snip(line, cell):\n",
    "    import __main__\n",
    "    snippet_collector = getattr(__main__, line)\n",
    "    if not isinstance(snippet_collector, SnippetCollector):\n",
    "        raise ValueError(\"{} is not a SnippetCollector\".format(line))\n",
    "    \n",
    "    get_ipython().run_cell(cell).raise_error()\n",
    "    \n",
    "    snippet_collector.collect(cell)"
   ]
  },
  {
   "cell_type": "code",
   "execution_count": 21,
   "metadata": {
    "collapsed": true
   },
   "outputs": [],
   "source": [
    "@impl(SnippetCollector)\n",
    "def compact(self):\n",
    "    seen = set()\n",
    "    for i in range(len(self.history)-1, -1, -1): # Reverse iterate over history\n",
    "        names = self.history[i][0]\n",
    "        if None in names:\n",
    "            seen |= names\n",
    "            continue\n",
    "        elif names - seen:\n",
    "            seen |= names\n",
    "            continue\n",
    "        else:\n",
    "            # All names have been seen\n",
    "            self.history.pop(i)"
   ]
  },
  {
   "cell_type": "markdown",
   "metadata": {},
   "source": [
    "## ParamLogger"
   ]
  },
  {
   "cell_type": "code",
   "execution_count": 22,
   "metadata": {
    "collapsed": true
   },
   "outputs": [],
   "source": [
    "import IPython.display\n",
    "import ipywidgets"
   ]
  },
  {
   "cell_type": "code",
   "execution_count": 23,
   "metadata": {
    "collapsed": true
   },
   "outputs": [],
   "source": [
    "class ParamLogger():\n",
    "    allowed_types = [int, float, str, bool]\n",
    "    def __init__(self):\n",
    "        self._r_params = {}\n",
    "    \n",
    "    def __getattr__(self, name):\n",
    "        if name.startswith('_'):\n",
    "            return object.__getattribute__(self, name)\n",
    "        \n",
    "        res = [False, False, None]\n",
    "        def cont(accept, val):\n",
    "            res[:] = True, accept, val\n",
    "        \n",
    "        box = ipywidgets.VBox(children = [\n",
    "            ipywidgets.HTML(value=\"Select a value for parameter {}\".format(name)),\n",
    "            ipywidgets.IntSlider(max=15),\n",
    "            ipywidgets.HBox(children = [\n",
    "                    ipywidgets.Button(description='Done'),\n",
    "                    ipywidgets.Button(description='Cancel'),\n",
    "                ]),\n",
    "        ])\n",
    "        box.children[-1].children[0].on_click(lambda _: cont(True, box.children[1].value))\n",
    "        box.children[-1].children[1].on_click(lambda _: cont(False, _))\n",
    "        IPython.display.display(box)\n",
    "        \n",
    "        while not res[0]:\n",
    "            get_ipython().kernel.do_one_iteration()\n",
    "            \n",
    "        box.close()\n",
    "            \n",
    "        if res[1]:\n",
    "            setattr(self, name, res[2])\n",
    "            return res[2]\n",
    "        \n",
    "        return object.__getattribute__(self, name)\n",
    "    \n",
    "    def __setattr__(self, name, value):\n",
    "        if name.startswith('_r_'):\n",
    "            return object.__setattr__(self, name, value)\n",
    "        \n",
    "        if type(value) not in ParamLogger.allowed_types:\n",
    "            raise ValueError('Parameter type {} not allowed'.format(type(value)))\n",
    "\n",
    "        self._r_params[name] = repr(value)\n",
    "        \n",
    "        return object.__setattr__(self, name, value)\n",
    "    \n",
    "    def dump(self, varname):\n",
    "        return \"\"\"\n",
    "class _ParamContainer(object): pass\n",
    "{varname} = _ParamContainer()\n",
    "\"\"\".format(varname=varname) + ''.join([\"\"\"\n",
    "{varname}.{key} = {value}\n",
    "\"\"\".format(varname=varname, key=key, value=value) for key, value in self._r_params.items()])\n",
    "    \n",
    "    def clone_widget(self):\n",
    "        box = ipywidgets.VBox()\n",
    "        abbreviations = [(k, eval(v), None) for k,v in self._r_params.items() ]\n",
    "\n",
    "        def reset():\n",
    "            box.children = ipywidgets.interaction._widgets_from_abbreviations(abbreviations)\n",
    "        \n",
    "        def accept():\n",
    "            res = ParamLogger()\n",
    "            for child in box.children:\n",
    "                k = child._kwarg\n",
    "                v = child.value\n",
    "                setattr(res, k, v)\n",
    "            return res\n",
    "        \n",
    "        reset()\n",
    "        \n",
    "        return box, accept, reset\n",
    "    \n",
    "    def interactive_clone(self):\n",
    "        w, accept, reset = self.clone_widget()\n",
    "        \n",
    "        done = [False]\n",
    "        result = [None]\n",
    "        def act_ok(_):\n",
    "            done[0] = True\n",
    "            result[0] = accept()\n",
    "            \n",
    "        def act_cancel(_):\n",
    "            done[0] = True\n",
    "        \n",
    "        b_ok = ipywidgets.Button(description='OK')\n",
    "        b_ok.on_click(act_ok)\n",
    "        b_reset = ipywidgets.Button(description='Reset')\n",
    "        b_reset.on_click(lambda _: reset)\n",
    "        b_cancel = ipywidgets.Button(description='Cancel')\n",
    "        b_cancel.on_click(act_cancel)\n",
    "\n",
    "        buttons = ipywidgets.HBox(children=[b_ok, b_reset, b_cancel])\n",
    "\n",
    "        container = ipywidgets.VBox(children=[buttons, w, buttons])\n",
    "        IPython.display.display(container)\n",
    "        while not done[0]:\n",
    "            get_ipython().kernel.do_one_iteration()\n",
    "\n",
    "        container.close()\n",
    "\n",
    "        result = result[0]\n",
    "        if result is None:\n",
    "            raise Exception('Cancelled by user')\n",
    "\n",
    "        return result"
   ]
  },
  {
   "cell_type": "markdown",
   "metadata": {},
   "source": [
    "## Widgets for cloning/combining SnippetCollectors"
   ]
  },
  {
   "cell_type": "code",
   "execution_count": 25,
   "metadata": {
    "collapsed": true
   },
   "outputs": [],
   "source": [
    "@impl(SnippetCollector)\n",
    "def clone_widget(self):\n",
    "    self.compact()\n",
    "    \n",
    "    container = ipywidgets.VBox()\n",
    "    \n",
    "    cells = []\n",
    "    ctrls = []\n",
    "    records = []\n",
    "    \n",
    "    def generate_cells():\n",
    "        cells.clear()\n",
    "        ctrls.clear()\n",
    "        \n",
    "        self.compact()\n",
    "\n",
    "        for i, (_, src) in enumerate(self.history):\n",
    "            ctrl = ipywidgets.ToggleButtons(options=['keep', 'ign', 'del'])\n",
    "            text = ipywidgets.HTML(value=\"<pre>{}</pre>\".format(src))\n",
    "            text.width='800px'\n",
    "            ctrl.padding = '0 10px 0 0'\n",
    "            cells.append(ipywidgets.HBox(children=[ctrl, text]))\n",
    "            ctrls.append(ctrl)\n",
    "            \n",
    "        container.children = cells\n",
    "    \n",
    "    def accept(shallow=True):\n",
    "        res = []\n",
    "        for i, (names, src) in enumerate(self.history):\n",
    "            if ctrls[i].value == 'keep':\n",
    "                res.append((names, src))\n",
    "            elif ctrls[i].value == 'del':\n",
    "                names.clear()\n",
    "        generate_cells()\n",
    "        return SnippetCollector.make_copy(res, shallow=shallow)\n",
    "    \n",
    "    generate_cells()\n",
    "    \n",
    "    return container, accept, generate_cells"
   ]
  },
  {
   "cell_type": "code",
   "execution_count": 26,
   "metadata": {
    "collapsed": true
   },
   "outputs": [],
   "source": [
    "def interactive_combine(*snippets, **params):\n",
    "    \"\"\"\n",
    "    Interactively combine snippet collectors\n",
    "    \n",
    "    snippets: snippet collectors to combine\n",
    "    params: key is the variable name to assign the parameters under\n",
    "            value is the dictionary of parameter names to values\n",
    "    \"\"\"\n",
    "    new_sc = SnippetCollector()\n",
    "    \n",
    "    param_cells = []\n",
    "    param_accepts = {}\n",
    "    param_resets = []\n",
    "    for k, v in params.items():\n",
    "        w, a, r = v.clone_widget()\n",
    "        param_cells.append(ipywidgets.HBox(children=[\n",
    "                ipywidgets.HTML(value='{}'.format(k)),\n",
    "                w\n",
    "            ]))\n",
    "        param_accepts[k] = a\n",
    "        param_resets.append(r)\n",
    "    param_cells = ipywidgets.VBox(children=param_cells)\n",
    "    \n",
    "    for sc in snippets:\n",
    "        new_sc.history.extend(sc.history)\n",
    "    \n",
    "    cells, accept, reset = new_sc.clone_widget()\n",
    "    \n",
    "    done = [False]\n",
    "    result = [None]\n",
    "    \n",
    "    c_deep = ipywidgets.Checkbox(description='Deep copy')\n",
    "    \n",
    "    def act_ok(_):\n",
    "        done[0] = True\n",
    "        result[0] = accept(shallow = (not c_deep.value))\n",
    "        param_history = []\n",
    "        for k, v in param_accepts.items():\n",
    "            param_history.append((set([k]), v().dump(k)))\n",
    "        result[0].history = param_history + result[0].history #HACK\n",
    "    \n",
    "    def act_reset(_):\n",
    "        for r in param_resets:\n",
    "            r()\n",
    "        reset()\n",
    "    \n",
    "    def act_cancel(_):\n",
    "        done[0] = True\n",
    "    \n",
    "    b_ok = ipywidgets.Button(description='OK')\n",
    "    b_ok.on_click(act_ok)\n",
    "    b_reset = ipywidgets.Button(description='Reset')\n",
    "    b_reset.on_click(act_reset)\n",
    "    b_cancel = ipywidgets.Button(description='Cancel')\n",
    "    b_cancel.on_click(act_cancel)\n",
    "    \n",
    "    buttons = ipywidgets.HBox(children=[b_ok, b_reset, b_cancel])\n",
    "    \n",
    "    container = ipywidgets.VBox(children=[c_deep, buttons, param_cells, cells, c_deep, buttons])\n",
    "    IPython.display.display(container)\n",
    "    while not done[0]:\n",
    "        get_ipython().kernel.do_one_iteration()\n",
    "        \n",
    "    container.close()\n",
    "    \n",
    "    result = result[0]\n",
    "    if result is None:\n",
    "        raise Exception('Cancelled by user')\n",
    "    \n",
    "    return result\n",
    "SnippetCollector.interactive_combine = interactive_combine"
   ]
  },
  {
   "cell_type": "code",
   "execution_count": 27,
   "metadata": {
    "collapsed": true
   },
   "outputs": [],
   "source": [
    "@impl(SnippetCollector)\n",
    "def interactive_clone(self):\n",
    "    return SnippetCollector.interactive_combine(self)"
   ]
  },
  {
   "cell_type": "markdown",
   "metadata": {},
   "source": [
    "### Frame"
   ]
  },
  {
   "cell_type": "code",
   "execution_count": 28,
   "metadata": {
    "collapsed": true
   },
   "outputs": [],
   "source": [
    "class Frame(metaclass=Struct):\n",
    "    def __init__(self, db_wrapper, snippet_collector=None, entry_id=None):\n",
    "        self.db_wrapper = db_wrapper\n",
    "        \n",
    "        if snippet_collector is None and entry_id is None:\n",
    "            raise ValueError(\"Specify snippet_collector or entry_id\")\n",
    "        elif entry_id is not None:\n",
    "            self.entry = db_wrapper.get_entry(entry_id)\n",
    "        else:\n",
    "            sc = snippet_collector.make_copy(shallow=False)\n",
    "            sc.compact()\n",
    "\n",
    "            self.entry = db_wrapper.root_entry().new(sc.history)\n",
    "        \n",
    "        self.target_hint = None\n",
    "    \n",
    "    def interactive_extract(self):\n",
    "        sc = SnippetCollector()\n",
    "        sc.history = self.entry.history\n",
    "        \n",
    "        return SnippetCollector.interactive_combine(sc)\n",
    "    \n",
    "    def _repr_html_(self):\n",
    "        return \"<pre>{}</pre>\".format(repr(self)) + \"\".join([\"<pre>\" + el + \"</pre>\" for (_, el) in self.entry.history])\n",
    "    \n",
    "    @property\n",
    "    def _id(self):\n",
    "        return str(self.entry._id)"
   ]
  },
  {
   "cell_type": "code",
   "execution_count": 29,
   "metadata": {
    "collapsed": true
   },
   "outputs": [],
   "source": [
    "@impl(DBWrapper)\n",
    "def create_frame(self, *snippets, **params):\n",
    "    return Frame(self, SnippetCollector.interactive_combine(*snippets, **params))"
   ]
  },
  {
   "cell_type": "code",
   "execution_count": 30,
   "metadata": {
    "collapsed": true
   },
   "outputs": [],
   "source": [
    "class Job(metaclass=Struct):\n",
    "    def __init__(self, worker, frame, cmds, tracker_name='jobtracker', job_id = None, db_wrapper=None):\n",
    "        if job_id is not None:\n",
    "            self.job_id = job_id\n",
    "            class _Dummy():\n",
    "                pass\n",
    "            self.frame = _Dummy()\n",
    "            self.frame.db_wrapper = db_wrapper\n",
    "            return\n",
    "        \n",
    "        self.frame = frame\n",
    "        self.tracker_name = tracker_name\n",
    "        self.worker = worker\n",
    "        if isinstance(cmds, str):\n",
    "            self.cmds = [cmds]\n",
    "        else:\n",
    "            self.cmds = cmds\n",
    "        \n",
    "        self.result = None\n",
    "        self.run()"
   ]
  },
  {
   "cell_type": "code",
   "execution_count": 31,
   "metadata": {
    "collapsed": true
   },
   "outputs": [],
   "source": [
    "@impl(Job)\n",
    "def run(self):\n",
    "    global remote_create_job, remote_start_job\n",
    "    b = self.worker.block\n",
    "    \n",
    "    self.worker.clear()\n",
    "    \n",
    "    self.worker.block = True\n",
    "    print(\"Creating remote job\")\n",
    "    self.job_id = self.worker.apply(remote_create_job)\n",
    "\n",
    "    self.worker.block = False\n",
    "    print(\"Running remote job\")\n",
    "    self.result = self.worker.apply(remote_start_job, self.frame._id, self.cmds, tracker_name=self.tracker_name)\n",
    "    \n",
    "    self.worker.block = b"
   ]
  },
  {
   "cell_type": "code",
   "execution_count": 32,
   "metadata": {
    "collapsed": true
   },
   "outputs": [],
   "source": [
    "@impl(Job)\n",
    "def get_info(self):\n",
    "    return self.frame.db_wrapper.client.db.jobs_test.find_one({'_id': ObjectId(self.job_id)})"
   ]
  },
  {
   "cell_type": "code",
   "execution_count": 33,
   "metadata": {
    "collapsed": true
   },
   "outputs": [],
   "source": [
    "@impl(Job)\n",
    "def get_frame(self):\n",
    "    info = self.get_info()\n",
    "    if info['entry'] is None:\n",
    "        return None\n",
    "    return Frame(self.frame.db_wrapper, entry_id=str(info['entry']))"
   ]
  },
  {
   "cell_type": "code",
   "execution_count": 34,
   "metadata": {
    "collapsed": true
   },
   "outputs": [],
   "source": [
    "@impl(Job)\n",
    "def display_widget(self):\n",
    "    info = self.get_info()\n",
    "    \n",
    "    container = ipywidgets.HBox()\n",
    "    container.children = [\n",
    "        ipywidgets.Valid(info['stop_time'] is not None),\n",
    "        ipywidgets.HTML(info['status']),\n",
    "        ipywidgets.HTML(info['name']),\n",
    "        ipywidgets.Button(description='Show frame')\n",
    "    ]\n",
    "    \n",
    "    container.children[1].padding='5px'\n",
    "    container.children[2].padding='5px'\n",
    "    button = container.children[3]\n",
    "    \n",
    "    container2 = ipywidgets.VBox()\n",
    "    proxy = ipywidgets.Proxy(ipywidgets.HTML())\n",
    "    container2.children = [container, proxy]\n",
    "    \n",
    "    \n",
    "    frame = self.get_frame()\n",
    "    if frame is None:\n",
    "        button.visible = False\n",
    "        button.close()\n",
    "        \n",
    "    frame_shown = True\n",
    "    def click(_=None):\n",
    "        nonlocal frame_shown\n",
    "        frame_shown = not frame_shown\n",
    "        if frame_shown:\n",
    "            button.description = 'Hide frame'\n",
    "            proxy.child = ipywidgets.HTML(self.get_frame()._repr_html_())\n",
    "        else:\n",
    "            button.description = 'Show frame'\n",
    "            proxy.child = ipywidgets.HTML('')\n",
    "        pass\n",
    "    \n",
    "    if frame is not None:\n",
    "        button.on_click(click)\n",
    "        click()\n",
    "\n",
    "    return container2"
   ]
  },
  {
   "cell_type": "code",
   "execution_count": 35,
   "metadata": {
    "collapsed": true
   },
   "outputs": [],
   "source": [
    "def dashboard_widget():\n",
    "    db_wrapper = DBWrapper()\n",
    "    jobs = []\n",
    "    \n",
    "    for job in db_wrapper.client.db.jobs_test.find({}):\n",
    "        job = Job(None, None, None, job_id=str(job['_id']), db_wrapper=db_wrapper)\n",
    "        w = job.display_widget()\n",
    "        jobs.append(w)\n",
    "    \n",
    "    return ipywidgets.VBox(jobs)\n",
    "\n",
    "Job.dashboard_widget = dashboard_widget"
   ]
  },
  {
   "cell_type": "code",
   "execution_count": 36,
   "metadata": {
    "collapsed": true
   },
   "outputs": [],
   "source": [
    "@impl(DBWrapper)\n",
    "def create_job(self, worker, cmds, *snippets, **params):\n",
    "    frame = self.create_frame(*snippets, **params)\n",
    "    return Job(worker, frame, cmds, tracker_name='jobtracker')"
   ]
  },
  {
   "cell_type": "markdown",
   "metadata": {},
   "source": [
    "## Analyzer"
   ]
  },
  {
   "cell_type": "code",
   "execution_count": 37,
   "metadata": {
    "collapsed": true
   },
   "outputs": [],
   "source": [
    "class Analyzer(metaclass=Struct):\n",
    "    def __init__(self, worker, job, analyzers, tracker_name='analysistracker',\n",
    "                 job_tracker_name='jobtracker', analysis_id = None):\n",
    "        if analysis_id is not None:\n",
    "            self.job = job\n",
    "            self.analysis_id = analysis_id\n",
    "            return\n",
    "        \n",
    "        self.job = job\n",
    "        self.tracker_name = tracker_name\n",
    "        self.job_tracker_name = job_tracker_name\n",
    "        self.worker = worker\n",
    "        self.analyzers = analyzers\n",
    "        \n",
    "        self.result = None\n",
    "        self.run()"
   ]
  },
  {
   "cell_type": "code",
   "execution_count": 38,
   "metadata": {
    "collapsed": true
   },
   "outputs": [],
   "source": [
    "@impl(Analyzer)\n",
    "def run(self):\n",
    "    global remote_create_analyzer, remote_start_analyzer\n",
    "    b = self.worker.block\n",
    "    \n",
    "    self.worker.clear()\n",
    "    \n",
    "    self.worker.block = True\n",
    "    self.analysis_id = self.worker.apply(remote_create_analyzer)\n",
    "\n",
    "    self.worker.block = False\n",
    "    self.result = self.worker.apply(remote_start_analyzer,\n",
    "                                    self.job.job_id,\n",
    "                                    self.analyzers,\n",
    "                                    tracker_name=self.tracker_name,\n",
    "                                    job_tracker_name=self.job_tracker_name,)\n",
    "    \n",
    "    self.worker.block = b"
   ]
  },
  {
   "cell_type": "code",
   "execution_count": 39,
   "metadata": {
    "collapsed": true
   },
   "outputs": [],
   "source": [
    "@impl(Analyzer)\n",
    "def get_info(self):\n",
    "    return self.job.frame.db_wrapper.client.db.analyses_test.find_one({'_id': ObjectId(self.analysis_id)})"
   ]
  },
  {
   "cell_type": "code",
   "execution_count": 40,
   "metadata": {
    "collapsed": true
   },
   "outputs": [],
   "source": [
    "@impl(Analyzer)\n",
    "def get_results(self):\n",
    "    info = self.get_info()\n",
    "    if info['analysis_entry'] is None:\n",
    "        return []\n",
    "    analysis_entries = self.job.frame.db_wrapper.client.db.analysis_entries_test\n",
    "    \n",
    "    current = analysis_entries.find_one({'_id' : info['analysis_entry']})\n",
    "    \n",
    "    res = []\n",
    "    while current is not None:\n",
    "        res.append(current)\n",
    "        current = analysis_entries.find_one({'_id': current['prev']})\n",
    "    \n",
    "    return res"
   ]
  },
  {
   "cell_type": "code",
   "execution_count": 41,
   "metadata": {
    "collapsed": true
   },
   "outputs": [],
   "source": [
    "@impl(DBWrapper)\n",
    "def create_analyzer(self, worker, job, analyzers):\n",
    "    return Analyzer(worker, job, analyzers, tracker_name='analysistracker', job_tracker_name='jobtracker')"
   ]
  },
  {
   "cell_type": "markdown",
   "metadata": {},
   "source": [
    "## Dashboard code"
   ]
  },
  {
   "cell_type": "code",
   "execution_count": 42,
   "metadata": {
    "collapsed": true
   },
   "outputs": [],
   "source": [
    "def make_listings(iterable, on_hide, calc_status, on_src, on_info):\n",
    "    listings = []\n",
    "    for item in iterable:\n",
    "        listing = ipywidgets.HBox()\n",
    "        hide_button = ipywidgets.Button(description='X', button_style='danger')\n",
    "        status_line = ipywidgets.HTML(\"\"\"<p style=\"width:12em; overflow:hidden; font-family:monospace\">{}</p>\"\"\".format(\n",
    "            calc_status(item)))\n",
    "        status_line.margin = \"5px\"\n",
    "        src_button = ipywidgets.Button(description = 'src')\n",
    "        info_button = ipywidgets.Button(description = 'info')\n",
    "        listing.children += (hide_button, status_line, src_button, info_button)\n",
    "        listing.padding = \"2px\"\n",
    "        \n",
    "        hide_button._item = item\n",
    "        hide_button._listing = listing\n",
    "        hide_button.on_click(lambda x: on_hide(x._item, x._listing))\n",
    "        src_button._item = item\n",
    "        #src_button._listing = listing\n",
    "        src_button.on_click(lambda x: on_src(x._item))\n",
    "        info_button._item = item\n",
    "        #info_button._listing = listing\n",
    "        info_button.on_click(lambda x: on_info(x._item))\n",
    "        listings.append(listing)\n",
    "    \n",
    "    return ipywidgets.VBox(listings)\n",
    "\n",
    "make_listings(['a', 'b', 'c'],\n",
    "             lambda _, x:(None, x.close()),\n",
    "             lambda x: x,\n",
    "             lambda _, x:None,\n",
    "             lambda _, x:None)"
   ]
  },
  {
   "cell_type": "code",
   "execution_count": 43,
   "metadata": {
    "collapsed": true
   },
   "outputs": [],
   "source": [
    "def make_divided_listing(iterable, is_hidden, on_hide, on_show, calc_status, on_src, on_info):\n",
    "    area = ipywidgets.VBox()\n",
    "    active_proxy = ipywidgets.Proxy(None)\n",
    "    inactive_proxy = ipywidgets.Proxy(None)\n",
    "    show_inactive = False\n",
    "    \n",
    "    header_active = ipywidgets.HTML(\"<h4>Visible</h4>\")\n",
    "    header_inactive = ipywidgets.HTML(\"<h4>Hidden</h4>\")\n",
    "    button_show_inactive = ipywidgets.Button(description = \"Show\")\n",
    "    \n",
    "    def toggle_show_inactive(_):\n",
    "        nonlocal show_inactive\n",
    "        show_inactive = not show_inactive\n",
    "        button_show_inactive.description = \"Hide\" if show_inactive else \"Show\"\n",
    "        refresh_inactive()\n",
    "    button_show_inactive.on_click(toggle_show_inactive)\n",
    "    \n",
    "    area.children = (header_active,\n",
    "                     active_proxy,\n",
    "                     ipywidgets.HBox((header_inactive, button_show_inactive)),\n",
    "                     inactive_proxy,)\n",
    "    \n",
    "    def refresh_active():\n",
    "        active_proxy.child = make_listings([x for x in iterable if not is_hidden(x)],\n",
    "                                           lambda item, x: (on_hide(item), x.close(), refresh_inactive()),\n",
    "                                           calc_status,\n",
    "                                           on_src,\n",
    "                                           on_info)\n",
    "    def refresh_inactive():\n",
    "        if show_inactive:\n",
    "            inactive_proxy.child = make_listings([x for x in iterable if is_hidden(x)],\n",
    "                                       lambda item, x: (on_show(item), x.close(), refresh_active()),\n",
    "                                       calc_status,\n",
    "                                       on_src,\n",
    "                                       on_info)\n",
    "        else:\n",
    "            inactive_proxy.child = None\n",
    "    refresh_active()\n",
    "    refresh_inactive()\n",
    "    return area\n",
    "\n",
    "make_divided_listing([list(x) for x in zip(\"abcd\", [True, False, False, False])],\n",
    "                    lambda x: x[1],\n",
    "                    lambda x: x.__setitem__(1, True),\n",
    "                    lambda x: x.__setitem__(1, False),\n",
    "                    lambda x: x[0],\n",
    "                    lambda _: None,\n",
    "                    lambda _: None)\n",
    "                                           "
   ]
  },
  {
   "cell_type": "code",
   "execution_count": 44,
   "metadata": {
    "collapsed": true
   },
   "outputs": [],
   "source": [
    "def make_dashboard(info_widget, on_job_src, on_job_info, on_analysis_src, on_analysis_info):\n",
    "    db_wrapper = DBWrapper()\n",
    "    \n",
    "    def get_selected_job():\n",
    "        return Job(None, None, None, job_id=str(selected_job), db_wrapper=db_wrapper)\n",
    "    \n",
    "    def on_job_src_(job):\n",
    "        nonlocal selected_job\n",
    "        selected_job = job['_id']\n",
    "        do_analysis_refresh()\n",
    "        on_job_src(get_selected_job())\n",
    "    def on_job_info_(job):\n",
    "        nonlocal selected_job\n",
    "        selected_job = job['_id']\n",
    "        do_analysis_refresh()\n",
    "        on_job_info(get_selected_job())\n",
    "        \n",
    "    def on_analysis_src_(a):\n",
    "        return on_analysis_src(Analyzer(None, get_selected_job(), None, analysis_id=str(a['_id'])))\n",
    "\n",
    "    def on_analysis_info_(a):\n",
    "        return on_analysis_info(Analyzer(None, get_selected_job(), None, analysis_id=str(a['_id'])))\n",
    "    \n",
    "    \n",
    "    # Jobs area\n",
    "    jobs_area = ipywidgets.VBox()\n",
    "    jobs_area.width = \"33%\"\n",
    "    jobs_refresh = ipywidgets.Button(description=\"Refresh\")\n",
    "    jobs_proxy = ipywidgets.Proxy(None)\n",
    "\n",
    "    jobs_area.children += (ipywidgets.HBox([ipywidgets.HTML('<h3>Jobs</h3>'), jobs_refresh]), jobs_proxy)\n",
    "\n",
    "    jobs = list(db_wrapper.client.db.jobs_test.find({}))\n",
    "    hidden_jobs = set([j['_id'] for j in jobs])\n",
    "\n",
    "    def do_refresh(_=None):\n",
    "        nonlocal jobs\n",
    "        jobs = list(db_wrapper.client.db.jobs_test.find({}))\n",
    "        jobs_proxy.child = make_divided_listing(jobs,\n",
    "                            lambda x: (x['_id'] in hidden_jobs),\n",
    "                            lambda x: hidden_jobs.add(x['_id']),\n",
    "                            lambda x: hidden_jobs.remove(x['_id']),\n",
    "                            lambda x: x['_id'],\n",
    "                            on_job_src_,\n",
    "                            on_job_info_)\n",
    "    do_refresh()\n",
    "    jobs_refresh.on_click(do_refresh)\n",
    "    \n",
    "    # Analysis area\n",
    "    analysis_area = ipywidgets.VBox()\n",
    "    analysis_area.width = \"33%\"\n",
    "    analysis_refresh = ipywidgets.Button(description=\"Refresh\")\n",
    "    analysis_proxy = ipywidgets.Proxy(None)\n",
    "\n",
    "    analysis_area.children += (ipywidgets.HBox([ipywidgets.HTML('<h3>Analyses</h3>'), analysis_refresh]),\n",
    "                               analysis_proxy)\n",
    "\n",
    "    selected_job = None\n",
    "    analyses = list(db_wrapper.client.db.analyses_test.find({}))\n",
    "    hidden_analyses = {}\n",
    "\n",
    "    def do_analysis_refresh(_=None):\n",
    "        nonlocal analyses\n",
    "        if selected_job is None:\n",
    "            analysis_proxy.child = None\n",
    "            return\n",
    "        else:\n",
    "            if selected_job not in hidden_analyses:\n",
    "                hidden_analyses[selected_job] = set()\n",
    "\n",
    "            analyses = list(db_wrapper.client.db.analyses_test.find({'job' : selected_job}))\n",
    "            analysis_proxy.child = make_divided_listing(analyses,\n",
    "                                lambda x: (x['_id'] in hidden_analyses[selected_job]),\n",
    "                                lambda x: hidden_analyses[selected_job].add(x['_id']),\n",
    "                                lambda x: hidden_analyses[selected_job].remove(x['_id']),\n",
    "                                lambda x: x['_id'],\n",
    "                                on_analysis_src_,\n",
    "                                on_analysis_info_)\n",
    "    do_analysis_refresh()\n",
    "    analysis_refresh.on_click(do_analysis_refresh)\n",
    "    \n",
    "    # Info area\n",
    "    info_area = ipywidgets.Proxy(info_widget)\n",
    "    info_area.width = \"33%\"\n",
    "    \n",
    "    return ipywidgets.HBox([jobs_area, analysis_area, info_area])\n",
    "\n",
    "info_area = ipywidgets.HTML()\n",
    "make_dashboard(info_area,\n",
    "               lambda job: setattr(info_area, 'value', job.get_frame()._repr_html_()),\n",
    "               lambda job: setattr(info_area, 'value', \"\"),\n",
    "               lambda a: setattr(info_area, 'value', \"\"),\n",
    "               lambda a: setattr(info_area, 'value', str(a.get_results())),\n",
    "               )"
   ]
  },
  {
   "cell_type": "code",
   "execution_count": 45,
   "metadata": {
    "collapsed": true
   },
   "outputs": [],
   "source": [
    "def job_get_info(job):\n",
    "    return \"\"\"\n",
    "<h3> Job Information </h3>\n",
    "<p style=\"font-family:monospace\"> Id: {_id}</p>\n",
    "<p> Name: {name} </p>\n",
    "<p> Status: {status} </p>\n",
    "<p> Start time: {start_time} </p>\n",
    "<p> Stop time: {stop_time} </p>\n",
    "\n",
    "<h4> Machine info </h4>\n",
    "<p> User: {user} </p>\n",
    "<p> Hostname: {hostname} </p>\n",
    "<p> PID: {pid} </p>\n",
    "\"\"\".format(**job.get_info())\n",
    "\n",
    "def job_get_src(job):\n",
    "    return job.get_frame()._repr_html_()\n",
    "\n",
    "def analysis_get_src(a):\n",
    "    import __main__\n",
    "    __main__.analysis = a.get_results()\n",
    "    return analysis_get_info(a)\n",
    "\n",
    "def analysis_get_info(a):\n",
    "    results = a.get_results()\n",
    "    if results:\n",
    "        keys = set.union(*[set(x.keys()) for x in results])\n",
    "        keys -= set(['_id', 'checkpoint', 'prev'])\n",
    "    else:\n",
    "        keys = set()\n",
    "\n",
    "    part1 = \"\"\"\n",
    "<h3> Analysis Information </h3>\n",
    "<p style=\"font-family:monospace\"> Id: {_id}</p>\n",
    "<p style=\"font-family:monospace\"> Corresponding job id: {job}</p>\n",
    "<p> Name: {name} </p>\n",
    "<p> Status: {status} </p>\n",
    "<p> Start time: {start_time} </p>\n",
    "<p> Stop time: {stop_time} </p>\n",
    "<p> Number of checkpoints: {num_checkpoints} </p>\n",
    "<p> Number of variables: {num_vars} </p>\n",
    "\n",
    "\n",
    "<h4> Machine info </h4>\n",
    "<p> User: {user} </p>\n",
    "<p> Hostname: {hostname} </p>\n",
    "<p> PID: {pid} </p>\n",
    "\"\"\".format(num_checkpoints=len(results), num_vars=len(keys), **a.get_info())\n",
    "    \n",
    "    part2 = \"<h4> Variables </h4>\"\n",
    "    for key in keys:\n",
    "        types = set([type(x.get(key, None)) for x in results[-50:]])\n",
    "\n",
    "        part2 += \"\"\"<p style=\"font-family=monospace\">{} : {}</pre>\"\"\".format(key, \", \".join(t.__name__ for t in types))\n",
    "    \n",
    "    return part1 + part2\n",
    "\n",
    "def make_default_dashboard():\n",
    "    info_area = ipywidgets.HTML()\n",
    "    return make_dashboard(info_area,\n",
    "                   lambda job: setattr(info_area, 'value', job_get_src(job)),\n",
    "                   lambda job: setattr(info_area, 'value', job_get_info(job)),\n",
    "                   lambda a: setattr(info_area, 'value', analysis_get_src(a)),\n",
    "                   lambda a: setattr(info_area, 'value', analysis_get_info(a)),\n",
    "                   )\n",
    "\n",
    "#make_default_dashboard()"
   ]
  },
  {
   "cell_type": "code",
   "execution_count": null,
   "metadata": {
    "collapsed": true
   },
   "outputs": [],
   "source": [
    "# The magic string below signals to the notebook importing machinery that\n",
    "# the examples section below should not be imported into any other modules\n",
    "\n",
    "#NBIMPORT_STOP"
   ]
  },
  {
   "cell_type": "markdown",
   "metadata": {},
   "source": [
    "# Examples\n",
    "For actual documentation and tutorial, see the `doc/` folder, or browse the latest documentation online at http://nikitakitaev.com/nbjob"
   ]
  },
  {
   "cell_type": "code",
   "execution_count": 46,
   "metadata": {
    "collapsed": true
   },
   "outputs": [],
   "source": [
    "import ipyparallel as ipp\n",
    "rc = ipp.Client()"
   ]
  },
  {
   "cell_type": "code",
   "execution_count": 47,
   "metadata": {
    "collapsed": true
   },
   "outputs": [],
   "source": [
    "import IPython.display"
   ]
  },
  {
   "cell_type": "code",
   "execution_count": 80,
   "metadata": {
    "collapsed": true
   },
   "outputs": [],
   "source": [
    "sc = SnippetCollector()"
   ]
  },
  {
   "cell_type": "code",
   "execution_count": 81,
   "metadata": {
    "collapsed": true
   },
   "outputs": [],
   "source": [
    "jobtracker = DummyJobtracker()"
   ]
  },
  {
   "cell_type": "code",
   "execution_count": 82,
   "metadata": {
    "collapsed": true
   },
   "outputs": [],
   "source": [
    "%%snip sc\n",
    "def get_y():\n",
    "    global y\n",
    "    return y\n",
    "def set_y(val):\n",
    "    global y\n",
    "    y = val"
   ]
  },
  {
   "cell_type": "code",
   "execution_count": 83,
   "metadata": {
    "collapsed": true
   },
   "outputs": [],
   "source": [
    "%%snip sc\n",
    "x = 0\n",
    "y = 0\n",
    "jobtracker.register_checkpointer('x')\n",
    "jobtracker.register_checkpointer('y', 'get_y', 'set_y')"
   ]
  },
  {
   "cell_type": "code",
   "execution_count": 84,
   "metadata": {
    "collapsed": false
   },
   "outputs": [],
   "source": [
    "%%snip sc\n",
    "x=1\n",
    "y=1\n",
    "jobtracker.checkpoint()\n",
    "for x in range(15):\n",
    "    y = x ** 2\n",
    "    jobtracker.checkpoint()"
   ]
  },
  {
   "cell_type": "code",
   "execution_count": 63,
   "metadata": {
    "collapsed": true
   },
   "outputs": [],
   "source": [
    "db_wrapper = DBWrapper()"
   ]
  },
  {
   "cell_type": "code",
   "execution_count": 73,
   "metadata": {
    "collapsed": true
   },
   "outputs": [],
   "source": [
    "worker = rc[0]"
   ]
  },
  {
   "cell_type": "code",
   "execution_count": 85,
   "metadata": {
    "collapsed": false
   },
   "outputs": [
    {
     "name": "stdout",
     "output_type": "stream",
     "text": [
      "Creating remote job\n",
      "Running remote job\n"
     ]
    },
    {
     "data": {
      "text/html": [],
      "text/plain": [
       "<AsyncResult: remote_start_job>"
      ]
     },
     "execution_count": 85,
     "metadata": {},
     "output_type": "execute_result"
    }
   ],
   "source": [
    "job = db_wrapper.create_job(worker,\n",
    "                            ['import time; time.sleep(5)'],\n",
    "                            sc)\n",
    "job.result"
   ]
  },
  {
   "cell_type": "code",
   "execution_count": 78,
   "metadata": {
    "collapsed": true
   },
   "outputs": [],
   "source": [
    "job.display_widget()"
   ]
  },
  {
   "cell_type": "code",
   "execution_count": 86,
   "metadata": {
    "collapsed": false
   },
   "outputs": [
    {
     "data": {
      "text/html": [],
      "text/plain": [
       "<AsyncResult: remote_start_analyzer>"
      ]
     },
     "execution_count": 86,
     "metadata": {},
     "output_type": "execute_result"
    },
    {
     "ename": "RemoteError",
     "evalue": "KeyError('_3059259e0dd84354b225e3bfee1324e1_args')",
     "output_type": "error",
     "traceback": [
      "\u001b[1;31m---------------------------------------------------------------------------\u001b[0m\u001b[1;31mKeyError\u001b[0m                                  Traceback (most recent call last)\u001b[1;31mKeyError\u001b[0m: '_3059259e0dd84354b225e3bfee1324e1_args'"
     ]
    }
   ],
   "source": [
    "def a():\n",
    "    global x, y\n",
    "    return {'x':x, 'y':y}\n",
    "analyzer = db_wrapper.create_analyzer(worker, job, [a])\n",
    "analyzer.result"
   ]
  },
  {
   "cell_type": "code",
   "execution_count": 87,
   "metadata": {
    "collapsed": true
   },
   "outputs": [],
   "source": [
    "from matplotlib import pyplot as plt\n",
    "%matplotlib inline"
   ]
  },
  {
   "cell_type": "code",
   "execution_count": 88,
   "metadata": {
    "collapsed": false
   },
   "outputs": [
    {
     "data": {
      "text/plain": [
       "[<matplotlib.lines.Line2D at 0x7f18763980b8>]"
      ]
     },
     "execution_count": 88,
     "metadata": {},
     "output_type": "execute_result"
    },
    {
     "data": {
      "image/png": "[encoded data removed]",
      "text/plain": [
       "<matplotlib.figure.Figure at 0x7f18783b14e0>"
      ]
     },
     "metadata": {},
     "output_type": "display_data"
    }
   ],
   "source": [
    "xs = []\n",
    "ys = []\n",
    "for d in analyzer.get_results():\n",
    "    #print(d)\n",
    "    xs.append(d['x'])\n",
    "    ys.append(d['y'])\n",
    "\n",
    "plt.plot(xs, ys)"
   ]
  },
  {
   "cell_type": "code",
   "execution_count": null,
   "metadata": {
    "collapsed": true
   },
   "outputs": [],
   "source": []
  }
 ],
 "metadata": {
  "kernelspec": {
   "display_name": "Python 3",
   "language": "python",
   "name": "python3"
  },
  "language_info": {
   "codemirror_mode": {
    "name": "ipython",
    "version": 3
   },
   "file_extension": ".py",
   "mimetype": "text/x-python",
   "name": "python",
   "nbconvert_exporter": "python",
   "pygments_lexer": "ipython3",
   "version": "3.4.3"
  }
 },
 "nbformat": 4,
 "nbformat_minor": 0
}
