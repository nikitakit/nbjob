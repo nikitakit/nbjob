{
 "cells": [
  {
   "cell_type": "markdown",
   "metadata": {},
   "source": [
    "# nbjob\n",
    "\n",
    "This file contains the core code for `nbjob`."
   ]
  },
  {
   "cell_type": "code",
   "execution_count": 1,
   "metadata": {
    "collapsed": false
   },
   "outputs": [
    {
     "name": "stdout",
     "output_type": "stream",
     "text": [
      "Only nbjob developers should see this message.\n"
     ]
    }
   ],
   "source": [
    "try:\n",
    "    # When this file is run as part of the nbjob package, relative imports are allowed\n",
    "    from .structs import Struct, impl, init\n",
    "    from . import ipyparallel_display\n",
    "    from .jobdb import make_default_dashboard, JobDB, Entry, Job, Analysis\n",
    "except SystemError:\n",
    "    # This file is a Jupyter notebook precisely to allow opening it in Jupyter\n",
    "    # during development. Don't use relative imports here\n",
    "    import notebook_import_hooks\n",
    "    from nbjob_dev.structs import Struct, impl, init\n",
    "    import nbjob_dev.ipyparallel_display\n",
    "    from nbjob_dev.jobdb import make_default_dashboard, JobDB, Entry, Job, Analysis\n",
    "    "
   ]
  },
  {
   "cell_type": "markdown",
   "metadata": {},
   "source": [
    "### Hack to fix behavior of inspect module\n",
    "See: https://bugs.python.org/issue12920"
   ]
  },
  {
   "cell_type": "code",
   "execution_count": 2,
   "metadata": {
    "collapsed": true
   },
   "outputs": [],
   "source": [
    "import inspect, sys\n",
    "\n",
    "def new_getfile(object, _old_getfile=inspect.getfile):\n",
    "    if not inspect.isclass(object):\n",
    "        return _old_getfile(object)\n",
    "    \n",
    "    # Lookup by parent module\n",
    "    if hasattr(object, '__module__'):\n",
    "        object_ = sys.modules.get(object.__module__)\n",
    "        if hasattr(object_, '__file__'):\n",
    "            return object_.__file__\n",
    "    \n",
    "    # If parent module is __main__, lookup by methods\n",
    "    for name, member in inspect.getmembers(object):\n",
    "        if inspect.isfunction(member) and object.__qualname__ + '.' + member.__name__ == member.__qualname__:\n",
    "            return inspect.getfile(member)\n",
    "    else:\n",
    "        raise TypeError('Source for {!r} not found'.format(object))\n",
    "inspect.getfile = new_getfile"
   ]
  },
  {
   "cell_type": "markdown",
   "metadata": {},
   "source": [
    "## Remote functions for jobs and analyses"
   ]
  },
  {
   "cell_type": "code",
   "execution_count": 3,
   "metadata": {
    "collapsed": true
   },
   "outputs": [],
   "source": [
    "class DummyJobtracker():\n",
    "    def checkpoint(self):\n",
    "        pass\n",
    "    \n",
    "    def register_checkpointer(self, varname, gettername=None, settername=None):\n",
    "        # Sanity check\n",
    "        import __main__, pickle\n",
    "        if gettername is not None:\n",
    "            getter = eval(gettername, __main__.__dict__)\n",
    "        else:\n",
    "            getter = lambda: eval(varname, __main__.__dict__)\n",
    "\n",
    "        if settername is not None:\n",
    "            setter = eval(settername, __main__.__dict__)\n",
    "        else:\n",
    "            def setter(val):\n",
    "                __main__.__dict__['_setter_proxy'] = val\n",
    "                exec(\"{} = _setter_proxy\".format(varname), __main__.__dict__)\n",
    "                del __main__.__dict__['_setter_proxy']\n",
    "\n",
    "        vals = getter()\n",
    "        setter(pickle.loads(pickle.dumps(vals)))\n",
    "        vals2 = getter()"
   ]
  },
  {
   "cell_type": "code",
   "execution_count": 4,
   "metadata": {
    "collapsed": true
   },
   "outputs": [],
   "source": [
    "def remote_create_job():\n",
    "    \"\"\"\n",
    "    First entry point for code executed on the remote end\n",
    "    \n",
    "    This creates a job tracker and returns its job id to the main system\n",
    "    \"\"\"\n",
    "    import bson, pickle\n",
    "    # Job tracker class\n",
    "    class JobTracker():\n",
    "        def __init__(self, old_tracker=None):\n",
    "            from pymongo import MongoClient\n",
    "            import gridfs\n",
    "            import socket, os, time, datetime, pwd\n",
    "            self.client = MongoClient()\n",
    "            self.entries = self.client.db.entries_test\n",
    "            self.jobs = self.client.db.jobs_test\n",
    "            self.fs = gridfs.GridFSBucket(self.client.db)\n",
    "            self.checkpointers = []\n",
    "            self.old_tracker = old_tracker\n",
    "            \n",
    "            login = pwd.getpwuid(os.getuid())[0]\n",
    "            \n",
    "            job = {\n",
    "                    'name' : (time.strftime(\"%Y-%m-%dT%H:%M:%S\") + \"-\" +\n",
    "                              login + \"@\" + socket.gethostname() + \":\" + str(os.getpid())),\n",
    "                    'entry' : None,\n",
    "                    'status' : 'Starting...',\n",
    "                    'start_time' : datetime.datetime.now(),\n",
    "                    'hostname' : socket.gethostname(),\n",
    "                    'pid' : os.getpid(),\n",
    "                    'user': login,\n",
    "                    'stop_time' : None\n",
    "                }\n",
    "\n",
    "            self.job_id = self.jobs.insert_one(job).inserted_id # Tell others that we're online\n",
    "            \n",
    "        def set_records(self, **d):\n",
    "            self.jobs.update_one({'_id': self.job_id},\n",
    "                     {'$set': d})\n",
    "\n",
    "        def start(self, entry_id):\n",
    "            from bson.objectid import ObjectId\n",
    "            self.entry = self.entries.find_one({'_id' : ObjectId(entry_id)})\n",
    "            \n",
    "            self.set_records(entry=self.entry['_id'])\n",
    "        \n",
    "        def finalize(self):\n",
    "            import datetime\n",
    "            self.set_records(stop_time=datetime.datetime.now())\n",
    "        \n",
    "        def change_status(self, new_status):\n",
    "            print('NEW JOB STATUS:', new_status)\n",
    "            self.set_records(status=new_status)\n",
    "\n",
    "        def register_checkpointer(self, varname, gettername=None, settername=None):\n",
    "            # Sanity check\n",
    "            import __main__\n",
    "            if gettername is not None:\n",
    "                getter = eval(gettername, __main__.__dict__)\n",
    "            else:\n",
    "                getter = lambda: eval(varname, __main__.__dict__)\n",
    "\n",
    "            if settername is not None:\n",
    "                setter = eval(settername, __main__.__dict__)\n",
    "            else:\n",
    "                def setter(val):\n",
    "                    __main__.__dict__['_setter_proxy'] = val\n",
    "                    exec(\"{} = _setter_proxy\".format(varname), __main__.__dict__)\n",
    "                    del __main__.__dict__['_setter_proxy']\n",
    "\n",
    "            vals = getter()\n",
    "            setter(pickle.loads(pickle.dumps(vals)))\n",
    "            vals2 = getter()\n",
    "            #assert (vals == vals2)\n",
    "            self.checkpointers.append((varname, gettername, settername))\n",
    "\n",
    "        def checkpoint(self):\n",
    "            # Perform any checkpoint operations\n",
    "            print('Checkpointing!')\n",
    "            \n",
    "            varnames = []\n",
    "            setternames = []\n",
    "            \n",
    "            grid_in = self.fs.open_upload_stream(\n",
    "                '{}-{}.pkl'.format(self.job_id,\n",
    "                                   self.entry['_id']))\n",
    "            \n",
    "            for varname, gettername, settername in self.checkpointers:\n",
    "                if gettername is not None:\n",
    "                    getter = eval(gettername)\n",
    "                else:\n",
    "                    getter = lambda: eval(varname)\n",
    "                vals = getter()\n",
    "                \n",
    "                varnames.append(varname)\n",
    "                setternames.append(settername)\n",
    "                pickle.dump(vals, grid_in)\n",
    "            \n",
    "            grid_in.close()\n",
    "            \n",
    "            # Add an entry linking to the file in question\n",
    "            d = {\n",
    "                    'type' : 'file',\n",
    "                    'names' : varnames,\n",
    "                    'prev' : self.entry['_id'],\n",
    "                    'setters' : setternames,\n",
    "                    'file' : grid_in._id\n",
    "                }\n",
    "            \n",
    "            new_id = self.entries.insert_one(d).inserted_id\n",
    "            self.entry = self.entries.find_one({'_id' : new_id})\n",
    "\n",
    "            # Add an actual checkpoint\n",
    "            d = {\n",
    "                    'type' : 'checkpoint',\n",
    "                    'names' : [],\n",
    "                    'prev' : self.entry['_id']\n",
    "                }\n",
    "            new_id = self.entries.insert_one(d).inserted_id\n",
    "            self.entry = self.entries.find_one({'_id' : new_id})\n",
    "\n",
    "            # Update the jobs queue\n",
    "            self.set_records(entry=new_id)\n",
    "    \n",
    "    global _jobtracker\n",
    "    \n",
    "    # First, figure out if there is an old job tracker remaining\n",
    "    old_tracker = None\n",
    "    try:\n",
    "        old_tracker = _jobtracker # TODO: better namespacing\n",
    "    except:\n",
    "        pass\n",
    "    \n",
    "    _jobtracker = JobTracker(old_tracker)\n",
    "    \n",
    "    return str(_jobtracker.job_id)"
   ]
  },
  {
   "cell_type": "code",
   "execution_count": 5,
   "metadata": {
    "collapsed": true
   },
   "outputs": [],
   "source": [
    "def remote_start_job(entry_id, run_commands, tracker_name=None):\n",
    "    \"\"\"\n",
    "    Main entry point for code executed on the remote end\n",
    "    \n",
    "    entry_id: starting entry in the entry table, with which to begin execution\n",
    "    run_commands: commands to run in the process of doing the job\n",
    "    tracker_name: global name under which to expose the job tracker\n",
    "    \"\"\"\n",
    "    global _jobtracker\n",
    "    \n",
    "    jobtracker = _jobtracker # Move it into the local namespace\n",
    "    old_tracker = jobtracker.old_tracker\n",
    "    \n",
    "    jobtracker.start(entry_id)\n",
    "    \n",
    "    # Try to inherit information from the old job tracker. Otherwise, assume we are starting from scratch\n",
    "    from bson.objectid import ObjectId\n",
    "    \n",
    "    current_entry_id = None\n",
    "    if old_tracker:\n",
    "        try:\n",
    "            current_entry_id = old_tracker.entry['_id']\n",
    "            if not isinstance(current_entry_id, ObjectId):\n",
    "                current_entry_id = None\n",
    "        except:\n",
    "            pass\n",
    "\n",
    "        try:\n",
    "            jobtracker.checkpointers = old_tracker.checkpointers\n",
    "        except:\n",
    "            jobtracker.checkpointers = []\n",
    "            \n",
    "    # Let the old tracker be garbage-collected\n",
    "    del old_tracker\n",
    "    del jobtracker.old_tracker\n",
    "    \n",
    "    try:        \n",
    "        # Figure out what history we need to replay\n",
    "        jobtracker.change_status('Determining history to replay')\n",
    "        seen = set()\n",
    "        history = []\n",
    "        ptr_entry = jobtracker.entry\n",
    "        print(\"old entry id is\", current_entry_id)\n",
    "        # TODO: can't replay binary data here. Maybe we actually do want the ability for\n",
    "        #       binary nodes here, such as for datasets\n",
    "        while ptr_entry['_id'] != current_entry_id:\n",
    "            if ptr_entry['type'] == 'src':\n",
    "                names = set(ptr_entry['names'])\n",
    "                do_add = True\n",
    "                if None in names:\n",
    "                    seen |= names\n",
    "                elif names - seen:\n",
    "                    seen |= names\n",
    "                else:\n",
    "                    # All names have already been seen, so skip populating history\n",
    "                    do_add = False\n",
    "                \n",
    "                if do_add:\n",
    "                    #print(\"adding history from entry\", ptr_entry['_id'])\n",
    "                    src = ptr_entry['src']\n",
    "                    history.append(src)\n",
    "                \n",
    "            if ptr_entry['prev'] is None:\n",
    "                history.append(\"%reset -f\")\n",
    "                break\n",
    "            else:\n",
    "                ptr_entry = jobtracker.entries.find_one({'_id':ptr_entry['prev']})\n",
    "\n",
    "        _jobtracker = jobtracker\n",
    "        if tracker_name is not None:\n",
    "            globals()[tracker_name] = jobtracker\n",
    "                \n",
    "        history = history[::-1]\n",
    "\n",
    "        jobtracker.change_status('Replaying history')\n",
    "        for cell in history:\n",
    "            #print('Running:', cell)\n",
    "            res = get_ipython().run_cell(cell).raise_error()\n",
    "            if cell.startswith(\"%reset\"):\n",
    "                # We just reset the namespace, so return jobtracker to it\n",
    "                _jobtracker = jobtracker\n",
    "                if tracker_name is not None:\n",
    "                    globals()[tracker_name] = jobtracker\n",
    "\n",
    "        jobtracker.change_status('Running commands')\n",
    "        for cmd in run_commands:\n",
    "            #print('Running:', cmd)\n",
    "            res = get_ipython().run_cell(cmd).raise_error()\n",
    "        \n",
    "        jobtracker.change_status('Job complete')\n",
    "        jobtracker.finalize()\n",
    "    except KeyboardInterrupt:\n",
    "        jobtracker.change_status('Killed')\n",
    "        jobtracker.finalize()\n",
    "        raise\n",
    "    except Exception as e:\n",
    "        # Best effort to notify of exception\n",
    "        jobtracker.change_status('Terminated due to exception: {}'.format(e))\n",
    "        jobtracker.finalize()\n",
    "        raise"
   ]
  },
  {
   "cell_type": "code",
   "execution_count": 6,
   "metadata": {
    "collapsed": true
   },
   "outputs": [],
   "source": [
    "def remote_create_analyzer():\n",
    "    \"\"\"\n",
    "    First entry point for code executed on the remote end\n",
    "    \n",
    "    This creates an analyzer and returns its analysis id to the main system\n",
    "    \"\"\"\n",
    "    from bson.objectid import ObjectId\n",
    "    \n",
    "    # Job tracker class\n",
    "    class AnalysisTracker():\n",
    "        def __init__(self, old_tracker=None):\n",
    "            from pymongo import MongoClient\n",
    "            import gridfs\n",
    "            import socket, os, time, datetime, pwd\n",
    "            self.client = MongoClient()\n",
    "            self.fs = gridfs.GridFSBucket(self.client.db)\n",
    "            self.entries = self.client.db.entries_test\n",
    "            self.analysis_entries = self.client.db.analysis_entries_test\n",
    "            self.jobs = self.client.db.jobs_test\n",
    "            self.analyses = self.client.db.analyses_test\n",
    "            self.analyzers = []\n",
    "            self.old_tracker = old_tracker\n",
    "            \n",
    "            login = pwd.getpwuid(os.getuid())[0]\n",
    "            \n",
    "            analysis = {\n",
    "                    'name' : (time.strftime(\"%Y-%m-%dT%H:%M:%S\") + \"-\" +\n",
    "                              login + \"@\" + socket.gethostname() + \":\" + str(os.getpid())),\n",
    "                    'job' : None,\n",
    "                    'analysis_entry' : None,\n",
    "                    'status' : 'Starting...',\n",
    "                    'start_time' : datetime.datetime.now(),\n",
    "                    'hostname' : socket.gethostname(),\n",
    "                    'pid' : os.getpid(),\n",
    "                    'user': login,\n",
    "                    'stop_time' : None\n",
    "                }\n",
    "            \n",
    "            self.analysis_id = self.analyses.insert_one(analysis).inserted_id\n",
    "            self.job_id = None\n",
    "            \n",
    "        def latest_entry_for_job(self):\n",
    "            return self.entries.find_one(\n",
    "                {'_id' : self.jobs.find_one({'_id' : self.job_id})['entry']})\n",
    "        \n",
    "        def set_records(self, **d):\n",
    "            self.analyses.update_one({'_id': self.analysis_id},\n",
    "                                     {'$set': d})\n",
    "        \n",
    "        def start(self, job_id):\n",
    "            assert isinstance(job_id, str)\n",
    "            self.analysis_entry = {'_id': None}\n",
    "            \n",
    "            self.job_id = ObjectId(job_id)\n",
    "            self.set_records(job=self.job_id)\n",
    "        \n",
    "        def finalize(self):\n",
    "            import datetime\n",
    "            self.set_records(stop_time=datetime.datetime.now())\n",
    "        \n",
    "        def change_status(self, new_status):\n",
    "            print('NEW ANALYSIS STATUS:', new_status)\n",
    "            self.set_records(status=new_status)\n",
    "\n",
    "        def register_analyzer(self, fn):\n",
    "            # Sanity check\n",
    "            res = fn()\n",
    "            assert isinstance(res, dict)\n",
    "            \n",
    "            self.analyzers.append(fn)\n",
    "\n",
    "        def analyze(self, checkpoint):\n",
    "            # Perform any checkpoint operations\n",
    "            assert isinstance(checkpoint, ObjectId)\n",
    "            analysis_entry = {'checkpoint': checkpoint,\n",
    "                             'prev' : self.analysis_entry['_id']}\n",
    "            \n",
    "            for fn in self.analyzers:\n",
    "                analysis_entry.update(fn())\n",
    "\n",
    "            new_id = self.analysis_entries.insert_one(analysis_entry).inserted_id\n",
    "            self.analysis_entry = self.analysis_entries.find_one({'_id' : new_id})\n",
    "\n",
    "            # Update the tracking info\n",
    "            self.set_records(analysis_entry=new_id)\n",
    "    \n",
    "    global _analysistracker\n",
    "    \n",
    "    # First, figure out if there is an old job tracker remaining\n",
    "    old_tracker = None\n",
    "    try:\n",
    "        old_tracker = _analysistracker # TODO: better namespacing\n",
    "    except:\n",
    "        pass\n",
    "    \n",
    "    _analysistracker = AnalysisTracker(old_tracker)\n",
    "    \n",
    "    return str(_analysistracker.analysis_id)"
   ]
  },
  {
   "cell_type": "code",
   "execution_count": 7,
   "metadata": {
    "collapsed": false
   },
   "outputs": [],
   "source": [
    "def remote_start_analyzer(job_id, analyzers, tracker_name=None, job_tracker_name=None):\n",
    "    \"\"\"\n",
    "    Main entry point for code executed on the remote end\n",
    "    \n",
    "    entry_id: starting entry in the entry table, with which to begin execution\n",
    "    run_commands: commands to run in the process of doing the job\n",
    "    tracker_name: global name under which to expose the job tracker\n",
    "    \"\"\"\n",
    "    global _analysistracker\n",
    "    \n",
    "    analysistracker = _analysistracker # Move it into the local namespace\n",
    "    old_tracker = analysistracker.old_tracker\n",
    "    \n",
    "    analysistracker.start(job_id)\n",
    "    \n",
    "    # Try to inherit information from the old job tracker. Otherwise, assume we are starting from scratch\n",
    "    from bson.objectid import ObjectId\n",
    "    import pickle\n",
    "    \n",
    "    current_entry_id = None\n",
    "    if old_tracker:\n",
    "        try:\n",
    "            current_entry_id = old_tracker.entry['_id']\n",
    "            if not isinstance(current_entry_id, ObjectId):\n",
    "                current_entry_id = None\n",
    "        except:\n",
    "            pass\n",
    "            \n",
    "    # Let the old tracker be garbage-collected\n",
    "    del old_tracker\n",
    "    del analysistracker.old_tracker\n",
    "    \n",
    "    # Dummy job tracker\n",
    "    class DummyJobtracker():\n",
    "        def checkpoint(self):\n",
    "            pass\n",
    "        def register_checkpointer(self, varname, gettername=None, settername=None):\n",
    "            pass\n",
    "    \n",
    "    try:        \n",
    "        # Figure out what history we need to replay\n",
    "        analysistracker.change_status('Determining history to replay')\n",
    "        \n",
    "        ptr_entry = analysistracker.latest_entry_for_job()\n",
    "        \n",
    "        print(\"old entry id is\", current_entry_id)\n",
    "        \n",
    "        all_histories = []\n",
    "        current_history = []\n",
    "        current_seen = set()\n",
    "        last_checkpoint = None\n",
    "        while ptr_entry is not None and ptr_entry['_id'] != current_entry_id:\n",
    "            if ptr_entry['type'] in ('src', 'binary', 'file'):\n",
    "                names = set(ptr_entry['names'])\n",
    "                do_add = True\n",
    "\n",
    "                if None in names:\n",
    "                    current_seen |= names\n",
    "                elif names - current_seen:\n",
    "                    current_seen |= names\n",
    "                else:\n",
    "                    # All names have already been seen, so skip populating history\n",
    "                    do_add = False\n",
    "\n",
    "                if do_add:\n",
    "                    current_history.append(ptr_entry['_id'])\n",
    "\n",
    "            elif ptr_entry['type'] == 'checkpoint':\n",
    "                if current_history and last_checkpoint:\n",
    "                    all_histories.append((last_checkpoint, current_history[::-1]))\n",
    "                last_checkpoint = ptr_entry['_id']\n",
    "                current_history = []\n",
    "                current_seen = set()\n",
    "                \n",
    "            if ptr_entry['prev'] is None:\n",
    "                current_history.append(\"%reset -f\")\n",
    "                break\n",
    "            else:\n",
    "                ptr_entry = analysistracker.entries.find_one({'_id':ptr_entry['prev']},\n",
    "                                                            {'src': False, 'data': False})\n",
    "\n",
    "        _analysistracker = analysistracker\n",
    "        if tracker_name is not None:\n",
    "            globals()[tracker_name] = analysistracker\n",
    "        if job_tracker_name is not None:\n",
    "            globals()[job_tracker_name] = DummyJobtracker()\n",
    "                \n",
    "        all_histories = all_histories[::-1]\n",
    "        current_history = current_history[::-1]\n",
    "        \n",
    "        if all_histories:\n",
    "            # MAJOR HACK: this effective causes the first checkpoint to be ignored\n",
    "            # but in reality, what we need is to have a system that selects the\n",
    "            # checkpoints for which the analysis is valid\n",
    "            temp = all_histories.pop(0)\n",
    "            current_history.extend(temp[1])\n",
    "            \n",
    "        def replay_cell(cell):\n",
    "            global _analysistracker\n",
    "            global _setter_proxy\n",
    "            \n",
    "            if isinstance(cell, str):\n",
    "                res = get_ipython().run_cell(cell).raise_error()\n",
    "            else: # if cell is an id\n",
    "                ptr_cell = analysistracker.entries.find_one({'_id': cell})\n",
    "                if ptr_cell['type'] == 'src':\n",
    "                    cell = ptr_cell['src']\n",
    "                    get_ipython().run_cell(cell).raise_error()\n",
    "                elif ptr_cell['type'] == 'binary':\n",
    "                    settername = ptr_cell['setter']\n",
    "                    if settername is not None:\n",
    "                        setter = globals()[settername]\n",
    "                        data = pickle.loads(ptr_cell['data'])\n",
    "                        setter(data)\n",
    "                    else:\n",
    "                        varname = list(ptr_cell['names'])[0]\n",
    "                        _setter_proxy = pickle.loads(ptr_cell['data'])\n",
    "                        get_ipython().run_cell(\"{} = _setter_proxy\".format(varname)).raise_error()\n",
    "                        del _setter_proxy\n",
    "                elif ptr_cell['type'] == 'file':\n",
    "                    grid_out = _analysistracker.fs.open_download_stream(ptr_cell['file'])\n",
    "                    \n",
    "                    for varname, settername in zip(ptr_cell['names'], ptr_cell['setters']):\n",
    "                        if settername is not None:\n",
    "                            setter = globals()[settername]\n",
    "                            data = pickle.load(grid_out)\n",
    "                            setter(data)\n",
    "                        else:\n",
    "                            _setter_proxy = pickle.load(grid_out)\n",
    "                            get_ipython().run_cell(\"{} = _setter_proxy\".format(varname)).raise_error()\n",
    "                            del _setter_proxy\n",
    "                    grid_out.close()\n",
    "\n",
    "            if isinstance(cell, str) and cell.startswith(\"%reset\"):\n",
    "                # We just reset the namespace, so return jobtracker to it\n",
    "                _analysistracker = analysistracker\n",
    "                if tracker_name is not None:\n",
    "                    globals()[tracker_name] = analysistracker\n",
    "                if job_tracker_name is not None:\n",
    "                    globals()[job_tracker_name] = DummyJobtracker()\n",
    "        \n",
    "        analysistracker.change_status('Replaying initial history')\n",
    "        for cell in current_history:\n",
    "            replay_cell(cell)\n",
    "        \n",
    "        analysistracker.change_status('Registering analyzers')\n",
    "        for analyzer in analyzers:\n",
    "            analysistracker.register_analyzer(analyzer)\n",
    "\n",
    "        analysistracker.change_status('Replaying history for checkpoints')\n",
    "        for checkpoint, history in all_histories:\n",
    "            for cell in history:\n",
    "                replay_cell(cell)\n",
    "            \n",
    "            # Then do snapshotting\n",
    "            analysistracker.analyze(checkpoint)\n",
    "        \n",
    "        analysistracker.change_status('Analysis complete')\n",
    "        analysistracker.finalize()\n",
    "    except KeyboardInterrupt:\n",
    "        analysistracker.change_status('Killed')\n",
    "        analysistracker.finalize()\n",
    "        raise\n",
    "    except Exception as e:\n",
    "        # Best effort to notify of exception\n",
    "        analysistracker.change_status('Terminated due to exception: {}'.format(e))\n",
    "        analysistracker.finalize()\n",
    "        raise"
   ]
  },
  {
   "cell_type": "code",
   "execution_count": 8,
   "metadata": {
    "collapsed": true
   },
   "outputs": [],
   "source": [
    "# Hacks so these functions are serialized correctly by the ipyparallel system\n",
    "remote_create_job.__module__  = '__main__'\n",
    "remote_start_job.__module__  = '__main__'\n",
    "remote_create_analyzer.__module__  = '__main__'\n",
    "remote_start_analyzer.__module__  = '__main__'"
   ]
  },
  {
   "cell_type": "markdown",
   "metadata": {},
   "source": [
    "## SnippetCollector"
   ]
  },
  {
   "cell_type": "code",
   "execution_count": 9,
   "metadata": {
    "collapsed": true
   },
   "outputs": [],
   "source": [
    "class SnippetCollector(metaclass=Struct):\n",
    "    def __call__(self, *args, **kwargs): # Special methods currently not supported by structs\n",
    "        return self._call(*args, **kwargs)"
   ]
  },
  {
   "cell_type": "code",
   "execution_count": 10,
   "metadata": {
    "collapsed": true
   },
   "outputs": [],
   "source": [
    "def make_copy(other, shallow=True):\n",
    "    if isinstance(other, SnippetCollector):\n",
    "        history = other.history\n",
    "    else:\n",
    "        history = other\n",
    "    res = SnippetCollector()\n",
    "    \n",
    "    if not shallow:\n",
    "        history = [(k.copy(), v) for k,v in history]\n",
    "    \n",
    "    res.history = history\n",
    "    return res\n",
    "SnippetCollector.make_copy = make_copy"
   ]
  },
  {
   "cell_type": "code",
   "execution_count": 11,
   "metadata": {
    "collapsed": true
   },
   "outputs": [],
   "source": [
    "@impl(SnippetCollector)\n",
    "def _call(self, a):\n",
    "    if '.' in a.__qualname__:\n",
    "        raise Exception('Cannot decorate an inner function or class')\n",
    "    \n",
    "    src = inspect.getsource(a)\n",
    "    if src.startswith(\"@\"):\n",
    "        src = \"def\" + src.split(\"def\", 1)[1]\n",
    "\n",
    "    self.history.append((set([a.__name__]), src))\n",
    "    return a"
   ]
  },
  {
   "cell_type": "code",
   "execution_count": 12,
   "metadata": {
    "collapsed": true
   },
   "outputs": [],
   "source": [
    "@init(SnippetCollector)\n",
    "def _(self):\n",
    "    self.history = []\n",
    "    self.shell = get_ipython()"
   ]
  },
  {
   "cell_type": "code",
   "execution_count": 13,
   "metadata": {
    "collapsed": true
   },
   "outputs": [],
   "source": [
    "@impl(SnippetCollector)\n",
    "def collect(self, src, names=()):\n",
    "    self.history.append((set(names) | set([None]), src))"
   ]
  },
  {
   "cell_type": "code",
   "execution_count": 14,
   "metadata": {
    "collapsed": true
   },
   "outputs": [],
   "source": [
    "from IPython.core.magic import register_cell_magic\n",
    "\n",
    "@register_cell_magic\n",
    "def snip(line, cell):\n",
    "    import __main__\n",
    "    snippet_collector = getattr(__main__, line)\n",
    "    if not isinstance(snippet_collector, SnippetCollector):\n",
    "        raise ValueError(\"{} is not a SnippetCollector\".format(line))\n",
    "    \n",
    "    get_ipython().run_cell(cell).raise_error()\n",
    "    \n",
    "    snippet_collector.collect(cell)"
   ]
  },
  {
   "cell_type": "code",
   "execution_count": 15,
   "metadata": {
    "collapsed": true
   },
   "outputs": [],
   "source": [
    "@impl(SnippetCollector)\n",
    "def compact(self):\n",
    "    seen = set()\n",
    "    for i in range(len(self.history)-1, -1, -1): # Reverse iterate over history\n",
    "        names = self.history[i][0]\n",
    "        if None in names:\n",
    "            seen |= names\n",
    "            continue\n",
    "        elif names - seen:\n",
    "            seen |= names\n",
    "            continue\n",
    "        else:\n",
    "            # All names have been seen\n",
    "            self.history.pop(i)"
   ]
  },
  {
   "cell_type": "markdown",
   "metadata": {},
   "source": [
    "## ParamLogger"
   ]
  },
  {
   "cell_type": "code",
   "execution_count": 16,
   "metadata": {
    "collapsed": true
   },
   "outputs": [],
   "source": [
    "import IPython.display\n",
    "import ipywidgets"
   ]
  },
  {
   "cell_type": "code",
   "execution_count": 17,
   "metadata": {
    "collapsed": true
   },
   "outputs": [],
   "source": [
    "class ParamLogger():\n",
    "    allowed_types = [int, float, str, bool]\n",
    "    def __init__(self):\n",
    "        self._r_params = {}\n",
    "    \n",
    "    def __getattr__(self, name):\n",
    "        if name.startswith('_'):\n",
    "            return object.__getattribute__(self, name)\n",
    "        \n",
    "        res = [False, False, None]\n",
    "        def cont(accept, val):\n",
    "            res[:] = True, accept, val\n",
    "        \n",
    "        box = ipywidgets.VBox(children = [\n",
    "            ipywidgets.HTML(value=\"Select a value for parameter {}\".format(name)),\n",
    "            ipywidgets.IntSlider(max=15),\n",
    "            ipywidgets.HBox(children = [\n",
    "                    ipywidgets.Button(description='Done'),\n",
    "                    ipywidgets.Button(description='Cancel'),\n",
    "                ]),\n",
    "        ])\n",
    "        box.children[-1].children[0].on_click(lambda _: cont(True, box.children[1].value))\n",
    "        box.children[-1].children[1].on_click(lambda _: cont(False, _))\n",
    "        IPython.display.display(box)\n",
    "        \n",
    "        while not res[0]:\n",
    "            get_ipython().kernel.do_one_iteration()\n",
    "            \n",
    "        box.close()\n",
    "            \n",
    "        if res[1]:\n",
    "            setattr(self, name, res[2])\n",
    "            return res[2]\n",
    "        \n",
    "        return object.__getattribute__(self, name)\n",
    "    \n",
    "    def __setattr__(self, name, value):\n",
    "        if name.startswith('_r_'):\n",
    "            return object.__setattr__(self, name, value)\n",
    "        \n",
    "        if type(value) not in ParamLogger.allowed_types:\n",
    "            raise ValueError('Parameter type {} not allowed'.format(type(value)))\n",
    "\n",
    "        self._r_params[name] = repr(value)\n",
    "        \n",
    "        return object.__setattr__(self, name, value)\n",
    "    \n",
    "    def dump(self, varname):\n",
    "        keys = sorted(self._r_params.keys())\n",
    "        return \"\"\"\n",
    "class _ParamContainer(object): pass\n",
    "{varname} = _ParamContainer()\n",
    "\"\"\".format(varname=varname) + ''.join([\"\"\"\n",
    "{varname}.{key} = {value}\"\"\".format(varname=varname, key=key, value=self._r_params[key]) for key in keys])\n",
    "    \n",
    "    def clone_widget(self):\n",
    "        box = ipywidgets.VBox()\n",
    "        abbreviations = [(k, eval(v), None) for k,v in self._r_params.items() ]\n",
    "\n",
    "        def reset():\n",
    "            box.children = ipywidgets.interaction._widgets_from_abbreviations(abbreviations)\n",
    "        \n",
    "        def accept():\n",
    "            res = ParamLogger()\n",
    "            for child in box.children:\n",
    "                k = child._kwarg\n",
    "                v = child.value\n",
    "                setattr(res, k, v)\n",
    "            return res\n",
    "        \n",
    "        reset()\n",
    "        \n",
    "        return box, accept, reset\n",
    "    \n",
    "    def interactive_clone(self):\n",
    "        w, accept, reset = self.clone_widget()\n",
    "        \n",
    "        done = [False]\n",
    "        result = [None]\n",
    "        def act_ok(_):\n",
    "            done[0] = True\n",
    "            result[0] = accept()\n",
    "            \n",
    "        def act_cancel(_):\n",
    "            done[0] = True\n",
    "        \n",
    "        b_ok = ipywidgets.Button(description='OK')\n",
    "        b_ok.on_click(act_ok)\n",
    "        b_reset = ipywidgets.Button(description='Reset')\n",
    "        b_reset.on_click(lambda _: reset)\n",
    "        b_cancel = ipywidgets.Button(description='Cancel')\n",
    "        b_cancel.on_click(act_cancel)\n",
    "\n",
    "        buttons = ipywidgets.HBox(children=[b_ok, b_reset, b_cancel])\n",
    "\n",
    "        container = ipywidgets.VBox(children=[buttons, w, buttons])\n",
    "        IPython.display.display(container)\n",
    "        while not done[0]:\n",
    "            get_ipython().kernel.do_one_iteration()\n",
    "\n",
    "        container.close()\n",
    "\n",
    "        result = result[0]\n",
    "        if result is None:\n",
    "            raise Exception('Cancelled by user')\n",
    "\n",
    "        return result"
   ]
  },
  {
   "cell_type": "markdown",
   "metadata": {},
   "source": [
    "## Widgets for cloning/combining SnippetCollectors"
   ]
  },
  {
   "cell_type": "code",
   "execution_count": 18,
   "metadata": {
    "collapsed": true
   },
   "outputs": [],
   "source": [
    "@impl(SnippetCollector)\n",
    "def clone_widget(self):\n",
    "    self.compact()\n",
    "    \n",
    "    container = ipywidgets.VBox()\n",
    "    \n",
    "    cells = []\n",
    "    ctrls = []\n",
    "    records = []\n",
    "    \n",
    "    def generate_cells():\n",
    "        cells.clear()\n",
    "        ctrls.clear()\n",
    "        \n",
    "        self.compact()\n",
    "\n",
    "        for i, (_, src) in enumerate(self.history):\n",
    "            ctrl = ipywidgets.ToggleButtons(options=['keep', 'ign', 'del'])\n",
    "            text = ipywidgets.HTML(value=\"<pre>{}</pre>\".format(src))\n",
    "            text.width='800px'\n",
    "            ctrl.padding = '0 10px 0 0'\n",
    "            cells.append(ipywidgets.HBox(children=[ctrl, text]))\n",
    "            ctrls.append(ctrl)\n",
    "            \n",
    "        container.children = cells\n",
    "    \n",
    "    def accept(shallow=True):\n",
    "        res = []\n",
    "        for i, (names, src) in enumerate(self.history):\n",
    "            if ctrls[i].value == 'keep':\n",
    "                res.append((names, src))\n",
    "            elif ctrls[i].value == 'del':\n",
    "                names.clear()\n",
    "        generate_cells()\n",
    "        return SnippetCollector.make_copy(res, shallow=shallow)\n",
    "    \n",
    "    generate_cells()\n",
    "    \n",
    "    return container, accept, generate_cells"
   ]
  },
  {
   "cell_type": "code",
   "execution_count": 19,
   "metadata": {
    "collapsed": false
   },
   "outputs": [],
   "source": [
    "def interactive_combine(*snippets, **params):\n",
    "    \"\"\"\n",
    "    Interactively combine snippet collectors\n",
    "    \n",
    "    snippets: snippet collectors to combine\n",
    "    params: key is the variable name to assign the parameters under\n",
    "            value is the dictionary of parameter names to values\n",
    "    \"\"\"\n",
    "    new_sc = SnippetCollector()\n",
    "    \n",
    "    param_cells = []\n",
    "    param_accepts = {}\n",
    "    param_resets = []\n",
    "    for k, v in params.items():\n",
    "        w, a, r = v.clone_widget()\n",
    "        param_cells.append(ipywidgets.HBox(children=[\n",
    "                ipywidgets.HTML(value='{}'.format(k)),\n",
    "                w\n",
    "            ]))\n",
    "        param_accepts[k] = a\n",
    "        param_resets.append(r)\n",
    "    param_cells = ipywidgets.VBox(children=param_cells)\n",
    "    \n",
    "    for sc in snippets:\n",
    "        new_sc.history.extend(sc.history)\n",
    "    \n",
    "    cells, accept, reset = new_sc.clone_widget()\n",
    "    \n",
    "    done = [False]\n",
    "    result = [None]\n",
    "    \n",
    "    c_deep = ipywidgets.Checkbox(description='Deep copy')\n",
    "    \n",
    "    def act_ok(_):\n",
    "        done[0] = True\n",
    "        result[0] = accept(shallow = (not c_deep.value))\n",
    "        param_history = []\n",
    "        for k in sorted(param_accepts.keys()):\n",
    "            v = param_accepts[k]\n",
    "            param_history.append((set([k]), v().dump(k)))\n",
    "        result[0].history = param_history + result[0].history #HACK\n",
    "    \n",
    "    def act_reset(_):\n",
    "        for r in param_resets:\n",
    "            r()\n",
    "        reset()\n",
    "    \n",
    "    def act_cancel(_):\n",
    "        done[0] = True\n",
    "    \n",
    "    b_ok = ipywidgets.Button(description='OK')\n",
    "    b_ok.on_click(act_ok)\n",
    "    b_reset = ipywidgets.Button(description='Reset')\n",
    "    b_reset.on_click(act_reset)\n",
    "    b_cancel = ipywidgets.Button(description='Cancel')\n",
    "    b_cancel.on_click(act_cancel)\n",
    "    \n",
    "    buttons = ipywidgets.HBox(children=[b_ok, b_reset, b_cancel])\n",
    "    \n",
    "    container = ipywidgets.VBox(children=[c_deep, buttons, param_cells, cells, c_deep, buttons])\n",
    "    IPython.display.display(container)\n",
    "    while not done[0]:\n",
    "        get_ipython().kernel.do_one_iteration()\n",
    "        \n",
    "    container.close()\n",
    "    \n",
    "    result = result[0]\n",
    "    if result is None:\n",
    "        raise Exception('Cancelled by user')\n",
    "    \n",
    "    return result\n",
    "SnippetCollector.interactive_combine = interactive_combine"
   ]
  },
  {
   "cell_type": "code",
   "execution_count": 20,
   "metadata": {
    "collapsed": true
   },
   "outputs": [],
   "source": [
    "@impl(SnippetCollector)\n",
    "def interactive_clone(self):\n",
    "    return SnippetCollector.interactive_combine(self)"
   ]
  },
  {
   "cell_type": "markdown",
   "metadata": {},
   "source": [
    "## DBWrapper"
   ]
  },
  {
   "cell_type": "code",
   "execution_count": 21,
   "metadata": {
    "collapsed": true
   },
   "outputs": [],
   "source": [
    "class DBWrapper(metaclass=Struct):\n",
    "    def __init__(self, *args, **kwargs):\n",
    "        self.jobdb = JobDB(*args, **kwargs)"
   ]
  },
  {
   "cell_type": "markdown",
   "metadata": {},
   "source": [
    "## JobRunner"
   ]
  },
  {
   "cell_type": "code",
   "execution_count": 22,
   "metadata": {
    "collapsed": true
   },
   "outputs": [],
   "source": [
    "class JobRunner(metaclass=Struct):\n",
    "    def __init__(self, worker, entry, cmds, tracker_name='jobtracker'):\n",
    "        self.entry = entry\n",
    "        self.tracker_name = tracker_name\n",
    "        self.worker = worker\n",
    "        if isinstance(cmds, str):\n",
    "            self.cmds = [cmds]\n",
    "        else:\n",
    "            self.cmds = cmds\n",
    "        \n",
    "        self.result = None\n",
    "        self.job = None\n",
    "        self.run()"
   ]
  },
  {
   "cell_type": "code",
   "execution_count": 23,
   "metadata": {
    "collapsed": true
   },
   "outputs": [],
   "source": [
    "@impl(JobRunner)\n",
    "def run(self):\n",
    "    global remote_create_job, remote_start_job\n",
    "    b = self.worker.block\n",
    "    \n",
    "    self.worker.clear()\n",
    "    \n",
    "    self.worker.block = True\n",
    "    print(\"Creating remote job\")\n",
    "    job_id = self.worker.apply(remote_create_job)\n",
    "    self.job = Job(self.entry.jobdb, job_id)\n",
    "\n",
    "    self.worker.block = False\n",
    "    print(\"Running remote job\")\n",
    "    self.result = self.worker.apply(remote_start_job, str(self.entry._id), self.cmds, tracker_name=self.tracker_name)\n",
    "    \n",
    "    self.worker.block = b"
   ]
  },
  {
   "cell_type": "code",
   "execution_count": 24,
   "metadata": {
    "collapsed": true
   },
   "outputs": [],
   "source": [
    "@impl(DBWrapper)\n",
    "def create_job(self, worker, cmds, *snippets, **params):\n",
    "    sc = SnippetCollector.interactive_combine(*snippets, **params)\n",
    "    sc = sc.make_copy(shallow=False)\n",
    "    sc.compact()\n",
    "    \n",
    "    entry = Entry(self.jobdb).new(sc.history)\n",
    "\n",
    "    return JobRunner(worker, entry, cmds, tracker_name='jobtracker')"
   ]
  },
  {
   "cell_type": "markdown",
   "metadata": {},
   "source": [
    "## AnalysisRunner"
   ]
  },
  {
   "cell_type": "code",
   "execution_count": 25,
   "metadata": {
    "collapsed": true
   },
   "outputs": [],
   "source": [
    "class AnalysisRunner(metaclass=Struct):\n",
    "    def __init__(self, worker, job, analyzers, tracker_name='analysistracker',\n",
    "                 job_tracker_name='jobtracker'):\n",
    "        if isinstance(job, JobRunner):\n",
    "            job = job.job\n",
    "        \n",
    "        self.job = job\n",
    "        self.tracker_name = tracker_name\n",
    "        self.job_tracker_name = job_tracker_name\n",
    "        self.worker = worker\n",
    "        self.analyzers = analyzers\n",
    "        \n",
    "        self.result = None\n",
    "        self.analysis = None\n",
    "        self.run()"
   ]
  },
  {
   "cell_type": "code",
   "execution_count": 26,
   "metadata": {
    "collapsed": true
   },
   "outputs": [],
   "source": [
    "@impl(AnalysisRunner)\n",
    "def run(self):\n",
    "    global remote_create_analyzer, remote_start_analyzer\n",
    "    b = self.worker.block\n",
    "    \n",
    "    self.worker.clear()\n",
    "    \n",
    "    self.worker.block = True\n",
    "    analysis_id = self.worker.apply(remote_create_analyzer)\n",
    "    self.analysis = Analysis(self.job.jobdb, analysis_id)\n",
    "\n",
    "    self.worker.block = False\n",
    "    self.result = self.worker.apply(remote_start_analyzer,\n",
    "                                    str(self.job._id),\n",
    "                                    self.analyzers,\n",
    "                                    tracker_name=self.tracker_name,\n",
    "                                    job_tracker_name=self.job_tracker_name,)\n",
    "    \n",
    "    self.worker.block = b"
   ]
  },
  {
   "cell_type": "code",
   "execution_count": 27,
   "metadata": {
    "collapsed": true
   },
   "outputs": [],
   "source": [
    "@impl(AnalysisRunner)\n",
    "def get_results(self):\n",
    "    return list(self.analysis.results)"
   ]
  },
  {
   "cell_type": "code",
   "execution_count": 28,
   "metadata": {
    "collapsed": true
   },
   "outputs": [],
   "source": [
    "@impl(DBWrapper)\n",
    "def create_analyzer(self, worker, job, analyzers):\n",
    "    return AnalysisRunner(worker, job, analyzers, tracker_name='analysistracker', job_tracker_name='jobtracker')"
   ]
  },
  {
   "cell_type": "code",
   "execution_count": null,
   "metadata": {
    "collapsed": true
   },
   "outputs": [],
   "source": [
    "# The magic string below signals to the notebook importing machinery that\n",
    "# the examples section below should not be imported into any other modules\n",
    "\n",
    "#NBIMPORT_STOP"
   ]
  },
  {
   "cell_type": "markdown",
   "metadata": {},
   "source": [
    "# Examples\n",
    "For actual documentation and tutorial, see the `doc/` folder, or browse the latest documentation online at http://nikitakitaev.com/nbjob"
   ]
  },
  {
   "cell_type": "code",
   "execution_count": 59,
   "metadata": {
    "collapsed": true
   },
   "outputs": [],
   "source": [
    "make_default_dashboard()"
   ]
  },
  {
   "cell_type": "code",
   "execution_count": 29,
   "metadata": {
    "collapsed": true
   },
   "outputs": [],
   "source": [
    "import ipyparallel as ipp\n",
    "rc = ipp.Client()"
   ]
  },
  {
   "cell_type": "code",
   "execution_count": 30,
   "metadata": {
    "collapsed": false
   },
   "outputs": [
    {
     "data": {
      "text/plain": [
       "<DirectView [0, 1, 2, 3,...]>"
      ]
     },
     "execution_count": 30,
     "metadata": {},
     "output_type": "execute_result"
    }
   ],
   "source": [
    "rc[:]"
   ]
  },
  {
   "cell_type": "code",
   "execution_count": 31,
   "metadata": {
    "collapsed": true
   },
   "outputs": [],
   "source": [
    "import IPython.display"
   ]
  },
  {
   "cell_type": "code",
   "execution_count": 32,
   "metadata": {
    "collapsed": true
   },
   "outputs": [],
   "source": [
    "sc = SnippetCollector()"
   ]
  },
  {
   "cell_type": "code",
   "execution_count": 33,
   "metadata": {
    "collapsed": true
   },
   "outputs": [],
   "source": [
    "hparams = ParamLogger()"
   ]
  },
  {
   "cell_type": "code",
   "execution_count": 34,
   "metadata": {
    "collapsed": true
   },
   "outputs": [],
   "source": [
    "hparams.max_x = 15"
   ]
  },
  {
   "cell_type": "code",
   "execution_count": 35,
   "metadata": {
    "collapsed": true
   },
   "outputs": [],
   "source": [
    "jobtracker = DummyJobtracker()"
   ]
  },
  {
   "cell_type": "code",
   "execution_count": 36,
   "metadata": {
    "collapsed": true
   },
   "outputs": [],
   "source": [
    "%%snip sc\n",
    "def get_y():\n",
    "    global y\n",
    "    return y\n",
    "def set_y(val):\n",
    "    global y\n",
    "    y = val"
   ]
  },
  {
   "cell_type": "code",
   "execution_count": 37,
   "metadata": {
    "collapsed": true
   },
   "outputs": [],
   "source": [
    "%%snip sc\n",
    "x = 0\n",
    "y = 0\n",
    "jobtracker.register_checkpointer('x')\n",
    "jobtracker.register_checkpointer('y', 'get_y', 'set_y')"
   ]
  },
  {
   "cell_type": "code",
   "execution_count": 38,
   "metadata": {
    "collapsed": false
   },
   "outputs": [],
   "source": [
    "%%snip sc\n",
    "x=1\n",
    "y=1\n",
    "jobtracker.checkpoint()\n",
    "for x in range(hparams.max_x):\n",
    "    y = x ** 2\n",
    "    jobtracker.checkpoint()"
   ]
  },
  {
   "cell_type": "code",
   "execution_count": 39,
   "metadata": {
    "collapsed": false
   },
   "outputs": [],
   "source": [
    "db_wrapper = DBWrapper()"
   ]
  },
  {
   "cell_type": "code",
   "execution_count": 40,
   "metadata": {
    "collapsed": true
   },
   "outputs": [],
   "source": [
    "worker = rc[15]"
   ]
  },
  {
   "cell_type": "code",
   "execution_count": 41,
   "metadata": {
    "collapsed": false
   },
   "outputs": [
    {
     "name": "stdout",
     "output_type": "stream",
     "text": [
      "Creating remote job\n",
      "Running remote job\n"
     ]
    },
    {
     "data": {
      "text/html": [],
      "text/plain": [
       "<AsyncResult: remote_start_job>"
      ]
     },
     "execution_count": 41,
     "metadata": {},
     "output_type": "execute_result"
    }
   ],
   "source": [
    "job = db_wrapper.create_job(worker,\n",
    "                            ['import time; time.sleep(5)'],\n",
    "                            sc,\n",
    "                           hparams=hparams,)\n",
    "job.result"
   ]
  },
  {
   "cell_type": "code",
   "execution_count": 42,
   "metadata": {
    "collapsed": false
   },
   "outputs": [
    {
     "data": {
      "text/html": [],
      "text/plain": [
       "<AsyncResult: remote_start_analyzer>"
      ]
     },
     "execution_count": 42,
     "metadata": {},
     "output_type": "execute_result"
    },
    {
     "ename": "RemoteError",
     "evalue": "KeyError('_37466827f2cb4196b04a7729075e9e51_kwargs')",
     "output_type": "error",
     "traceback": [
      "\u001b[1;31m---------------------------------------------------------------------------\u001b[0m\u001b[1;31mKeyError\u001b[0m                                  Traceback (most recent call last)\u001b[1;31mKeyError\u001b[0m: '_37466827f2cb4196b04a7729075e9e51_kwargs'"
     ]
    }
   ],
   "source": [
    "def a():\n",
    "    global x, y\n",
    "    return {'x':x, 'y':y}\n",
    "analyzer = db_wrapper.create_analyzer(worker, job, [a])\n",
    "analyzer.result"
   ]
  },
  {
   "cell_type": "code",
   "execution_count": 43,
   "metadata": {
    "collapsed": true
   },
   "outputs": [],
   "source": [
    "from matplotlib import pyplot as plt\n",
    "%matplotlib inline"
   ]
  },
  {
   "cell_type": "code",
   "execution_count": 44,
   "metadata": {
    "collapsed": false
   },
   "outputs": [
    {
     "data": {
      "text/plain": [
       "[<matplotlib.lines.Line2D at 0x7f56b7ed6588>]"
      ]
     },
     "execution_count": 44,
     "metadata": {},
     "output_type": "execute_result"
    },
    {
     "data": {
      "image/png": "[encoded data removed]",
      "text/plain": [
       "<matplotlib.figure.Figure at 0x7f56b9f667f0>"
      ]
     },
     "metadata": {},
     "output_type": "display_data"
    }
   ],
   "source": [
    "xs = []\n",
    "ys = []\n",
    "for d in analyzer.get_results():\n",
    "    #print(d)\n",
    "    xs.append(d['x'])\n",
    "    ys.append(d['y'])\n",
    "\n",
    "plt.plot(xs, ys)"
   ]
  },
  {
   "cell_type": "code",
   "execution_count": 54,
   "metadata": {
    "collapsed": true
   },
   "outputs": [],
   "source": [
    "worker.activate('_a')"
   ]
  },
  {
   "cell_type": "code",
   "execution_count": 55,
   "metadata": {
    "collapsed": false
   },
   "outputs": [
    {
     "data": {
      "text/plain": [
       "\u001b[0;31mOut[15:3]: \u001b[0m(14, 196)"
      ]
     },
     "metadata": {},
     "output_type": "display_data"
    },
    {
     "data": {
      "text/html": [],
      "text/plain": [
       "<AsyncResult: execute>"
      ]
     },
     "execution_count": 55,
     "metadata": {},
     "output_type": "execute_result"
    }
   ],
   "source": [
    "%%px_a\n",
    "x, y"
   ]
  },
  {
   "cell_type": "code",
   "execution_count": 56,
   "metadata": {
    "collapsed": false
   },
   "outputs": [
    {
     "data": {
      "text/plain": [
       "14"
      ]
     },
     "execution_count": 56,
     "metadata": {},
     "output_type": "execute_result"
    }
   ],
   "source": [
    "worker['x']"
   ]
  },
  {
   "cell_type": "code",
   "execution_count": 57,
   "metadata": {
    "collapsed": false
   },
   "outputs": [
    {
     "data": {
      "text/plain": [
       "15"
      ]
     },
     "metadata": {},
     "output_type": "display_data"
    },
    {
     "data": {
      "text/html": [],
      "text/plain": [
       "<AsyncResult: finished>"
      ]
     },
     "execution_count": 57,
     "metadata": {},
     "output_type": "execute_result"
    }
   ],
   "source": [
    "x = 5\n",
    "worker.apply(lambda z: x+z, 1)"
   ]
  }
 ],
 "metadata": {
  "kernelspec": {
   "display_name": "Python 3",
   "language": "python",
   "name": "python3"
  },
  "language_info": {
   "codemirror_mode": {
    "name": "ipython",
    "version": 3
   },
   "file_extension": ".py",
   "mimetype": "text/x-python",
   "name": "python",
   "nbconvert_exporter": "python",
   "pygments_lexer": "ipython3",
   "version": "3.4.3"
  }
 },
 "nbformat": 4,
 "nbformat_minor": 0
}
