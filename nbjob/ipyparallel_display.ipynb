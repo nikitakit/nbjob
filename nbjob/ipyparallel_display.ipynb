{
 "cells": [
  {
   "cell_type": "markdown",
   "metadata": {},
   "source": [
    "# nbjob.ipyparallel_display - better visualizations for ipyparallel\n",
    "\n",
    "ipyparallel defines an `AsyncResult` datatype, which is the returned for non-blocking remote calls. This adds a display hook to the Jupyter notebook that displays stdout/stderr for the remote execution, as well as the result of the task.\n",
    "\n",
    "The option to interrupt a remote task is unfortunately broken in the current impementation"
   ]
  },
  {
   "cell_type": "code",
   "execution_count": 1,
   "metadata": {
    "collapsed": true
   },
   "outputs": [],
   "source": [
    "import ipyparallel as ipp"
   ]
  },
  {
   "cell_type": "code",
   "execution_count": 2,
   "metadata": {
    "collapsed": true
   },
   "outputs": [],
   "source": [
    "from IPython.display import display"
   ]
  },
  {
   "cell_type": "code",
   "execution_count": 3,
   "metadata": {
    "collapsed": true
   },
   "outputs": [],
   "source": [
    "import ipywidgets"
   ]
  },
  {
   "cell_type": "code",
   "execution_count": 4,
   "metadata": {
    "collapsed": true
   },
   "outputs": [],
   "source": [
    "import html"
   ]
  },
  {
   "cell_type": "code",
   "execution_count": 5,
   "metadata": {
    "collapsed": true
   },
   "outputs": [],
   "source": [
    "import socket, signal, os"
   ]
  },
  {
   "cell_type": "code",
   "execution_count": 6,
   "metadata": {
    "collapsed": true
   },
   "outputs": [],
   "source": [
    "import time"
   ]
  },
  {
   "cell_type": "code",
   "execution_count": 7,
   "metadata": {
    "collapsed": true
   },
   "outputs": [],
   "source": [
    "# TODO: these used to actually hold pids and hosts, but in the latest refactoring\n",
    "# nothing sets them. The nbjob framework should update these.\n",
    "pid_map = {}\n",
    "host_map = {}"
   ]
  },
  {
   "cell_type": "code",
   "execution_count": 8,
   "metadata": {
    "collapsed": true
   },
   "outputs": [],
   "source": [
    "def interrupt_engine(eid):\n",
    "    global host_map, pid_map\n",
    "    host = host_map[eid]\n",
    "    pid = pid_map[eid]\n",
    "    \n",
    "    if ipp.Client()[eid].queue_status()['queue'] == 0:\n",
    "        return # Only interrupt if there are running jobs\n",
    "    \n",
    "    # HACK: Guard against timing issues\n",
    "    # (We always want to interrupt the engine if there is a job running,\n",
    "    #  so the job dies and not the engine)\n",
    "    ipp.Client()[eid].execute(\"while True: pass\", block=False)\n",
    "    import time\n",
    "    time.sleep(0.1)\n",
    "    \n",
    "    if host == socket.gethostname():\n",
    "        # local\n",
    "        os.kill(pid, signal.SIGINT)\n",
    "    else:\n",
    "        !ssh $host kill -INT $pid"
   ]
  },
  {
   "cell_type": "code",
   "execution_count": 9,
   "metadata": {
    "collapsed": true
   },
   "outputs": [],
   "source": [
    "def format_output(output, stderr=False):\n",
    "    return \"\"\"\n",
    "        <div class=\"output_area\">\n",
    "            <div class=\"output_subarea output_text output_stream output_{kind}\">\n",
    "                <pre>{}</pre>\n",
    "            </div>\n",
    "        </div>\n",
    "        \"\"\".format(html.escape(output), kind=(\"stderr\" if stderr else \"stdout\"))"
   ]
  },
  {
   "cell_type": "code",
   "execution_count": 10,
   "metadata": {
    "collapsed": true
   },
   "outputs": [],
   "source": [
    "def async_result_formatter(ar):\n",
    "    refresh = ipywidgets.Button(description='Refresh')\n",
    "    interrupt = ipywidgets.Button(description='Interrupt')\n",
    "    buttons = ipywidgets.VBox()\n",
    "    buttons.children = [refresh, interrupt]\n",
    "    \n",
    "    contents = [ipywidgets.HTML() for _ in range(len(ar))]\n",
    "    result = ipywidgets.HTML()\n",
    "    def do_refresh(_ignored=None):\n",
    "        for i, c in enumerate(contents):\n",
    "            output = \"\"\n",
    "            if ar.stderr:\n",
    "                output += format_output(ar.stderr[i] if len(ar) >  1 else ar.stderr, stderr=True)\n",
    "            if ar.stdout:\n",
    "                output += format_output(ar.stdout[i] if len(ar) > 1 else ar.stdout)\n",
    "            c.value = \"\"\"<div style=\"overflow:scroll; max-height:400px\">\"\"\" + output + \"</div>\"\n",
    "\n",
    "        if ar.ready():\n",
    "            result.visible = False\n",
    "            result.value = \"\"\n",
    "            refresh.on_click(do_refresh, remove=True)\n",
    "            buttons.visible = False\n",
    "            if isinstance(ar.result, list) or (hasattr(ar.result, 'data') and ar.result.data is not None):\n",
    "                display(ar.result) # This can throw exception!\n",
    "            elif not hasattr(ar.result, 'data'):\n",
    "                display(ar.result)\n",
    "        else:\n",
    "            result.value = \"<pre>{}</pre>\".format(html.escape(repr(ar)))\n",
    "    refresh.on_click(do_refresh)\n",
    "    do_refresh()\n",
    "    def do_interrupt(_ignored=None):\n",
    "        targets = ar._targets\n",
    "        for target in targets:\n",
    "            interrupt_engine(target)\n",
    "        interrupt.description='Re-interrupt'\n",
    "    \n",
    "    interrupt.on_click(do_interrupt)\n",
    "    ar_widget = ipywidgets.VBox()\n",
    "    contents_widget = ipywidgets.HBox()\n",
    "    for w in contents:\n",
    "        w.border_width = \"1px\"\n",
    "        w.width = \"calc(100% / {})\".format(len(contents))\n",
    "        w.margin = \"1px\"\n",
    "    contents_widget.children = contents\n",
    "    ar_widget.children = [buttons, contents_widget, result]\n",
    "    display(ar_widget)\n",
    "    return \"\""
   ]
  },
  {
   "cell_type": "code",
   "execution_count": 11,
   "metadata": {
    "collapsed": true
   },
   "outputs": [],
   "source": [
    "get_ipython().display_formatter.formatters['text/html'].for_type(\n",
    "        ipp.client.asyncresult.AsyncResult,\n",
    "        async_result_formatter)"
   ]
  },
  {
   "cell_type": "code",
   "execution_count": null,
   "metadata": {
    "collapsed": true
   },
   "outputs": [],
   "source": []
  }
 ],
 "metadata": {
  "kernelspec": {
   "display_name": "Python 3",
   "language": "python",
   "name": "python3"
  },
  "language_info": {
   "codemirror_mode": {
    "name": "ipython",
    "version": 3
   },
   "file_extension": ".py",
   "mimetype": "text/x-python",
   "name": "python",
   "nbconvert_exporter": "python",
   "pygments_lexer": "ipython3",
   "version": "3.4.3"
  }
 },
 "nbformat": 4,
 "nbformat_minor": 0
}
