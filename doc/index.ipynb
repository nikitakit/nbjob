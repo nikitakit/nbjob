{
 "cells": [
  {
   "cell_type": "markdown",
   "metadata": {},
   "source": [
    "# nbjob - Using Jupyter notebooks for machine learning research\n",
    "*Implements experiment management and lightweight version control.*\n",
    "\n",
    "* Home: http://nikitakitaev.com/nbjob\n",
    "* GitHub: http://github.com/nikitakit/nbjob"
   ]
  },
  {
   "cell_type": "markdown",
   "metadata": {},
   "source": [
    "`nbjob` is a Python library that enhances Jupyter notebooks.\n",
    "\n",
    "Features:\n",
    "* Dispatch jobs from Jupyter Notebooks to an ipyparallel cluster\n",
    "* Designed for long-running jobs, such as training a neural network for greater than a day\n",
    "* Store intermediate and final job results\n",
    "* Keep reproducible source code backups for all jobs\n",
    "* Run analyses on job results\n",
    "* Easily run a series of jobs related jobs with different hyperparameters"
   ]
  },
  {
   "cell_type": "markdown",
   "metadata": {},
   "source": [
    "## Contents\n",
    "* [Background](background.html)\n",
    "* [Installation](install.html)\n",
    "* [Tutorial](tutorial.html)"
   ]
  }
 ],
 "metadata": {
  "kernelspec": {
   "display_name": "Python 3",
   "language": "python",
   "name": "python3"
  },
  "language_info": {
   "codemirror_mode": {
    "name": "ipython",
    "version": 3
   },
   "file_extension": ".py",
   "mimetype": "text/x-python",
   "name": "python",
   "nbconvert_exporter": "python",
   "pygments_lexer": "ipython3",
   "version": "3.4.3"
  }
 },
 "nbformat": 4,
 "nbformat_minor": 0
}
