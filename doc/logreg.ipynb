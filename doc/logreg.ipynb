{
 "cells": [
  {
   "cell_type": "markdown",
   "metadata": {},
   "source": [
    "# nbjob - Example: Logistic Regression (using Theano)\n",
    "[Home](index.html) | Previous: [Tutorial](tutorial.html)"
   ]
  },
  {
   "cell_type": "markdown",
   "metadata": {},
   "source": [
    "[Download this document as a notebook](../doc/logreg.ipynb)"
   ]
  },
  {
   "cell_type": "markdown",
   "metadata": {},
   "source": [
    "This tutorial is a modified version of [Logistic Regression Tutorial from deeplearning.net](deeplearning.net/tutorial/logreg.html). Original text and code is copyright (c) 2010-2015, Deep Learning Tutorials Development Team. The tutorial has been modified to show how the same model can be constructed and trained in a workflow that uses `nbjob`.\n",
    "\n",
    "Theano is required to run this tutorial."
   ]
  },
  {
   "cell_type": "markdown",
   "metadata": {},
   "source": [
    "## Introduction\n",
    "In this section, we're going to use Theano to implement a logistic regression classifier, and test it on the MNIST digit classification problem.\n",
    "\n",
    "But first, we need to initialize the `nbjob` infrastructre. We start by importing `nbjob` and connecting it to the database."
   ]
  },
  {
   "cell_type": "code",
   "execution_count": 1,
   "metadata": {
    "collapsed": false
   },
   "outputs": [],
   "source": [
    "import nbjob\n",
    "from nbjob import SnippetCollector, ParamLogger, DBWrapper, DummyJobtracker\n",
    "\n",
    "db_wrapper = DBWrapper()\n",
    "jobtracker = DummyJobtracker()"
   ]
  },
  {
   "cell_type": "markdown",
   "metadata": {},
   "source": [
    "Now we can begin by importing some of the Python modules we'll be using. Since we'll need most of those modules both locally and remotely, we create a `prelude` variable that records the code we."
   ]
  },
  {
   "cell_type": "code",
   "execution_count": 2,
   "metadata": {
    "collapsed": true
   },
   "outputs": [],
   "source": [
    "prelude = SnippetCollector()"
   ]
  },
  {
   "cell_type": "code",
   "execution_count": 3,
   "metadata": {
    "collapsed": true
   },
   "outputs": [],
   "source": [
    "%%snip prelude\n",
    "# Imports for both remote workers, and locally\n",
    "import theano\n",
    "import theano.tensor as T\n",
    "import numpy as np"
   ]
  },
  {
   "cell_type": "markdown",
   "metadata": {},
   "source": [
    "Now we need to configure Theano. Note how our snippet mechanism lets us have different settings for the workers and the local notebook. This means the workers can have all Theano optimizations enabled, while our local version can be configured to compile faster or to enable debug mode."
   ]
  },
  {
   "cell_type": "code",
   "execution_count": 4,
   "metadata": {
    "collapsed": true
   },
   "outputs": [],
   "source": [
    "%%snip prelude\n",
    "floatX = theano.config.floatX\n",
    "theano.config.mode = 'FAST_RUN'\n",
    "theano.config.optimizer = 'fast_run'"
   ]
  },
  {
   "cell_type": "code",
   "execution_count": 5,
   "metadata": {
    "collapsed": true
   },
   "outputs": [],
   "source": [
    "# Override theano settings locally\n",
    "theano.config.mode = 'FAST_COMPILE'\n",
    "theano.config.optimizer = 'fast_compile'"
   ]
  },
  {
   "cell_type": "markdown",
   "metadata": {},
   "source": [
    "Finally, let's make some previsions for loading in data. We will store that data in `~/data`, using pickle files."
   ]
  },
  {
   "cell_type": "code",
   "execution_count": 6,
   "metadata": {
    "collapsed": true
   },
   "outputs": [],
   "source": [
    "%%snip prelude\n",
    "import pickle, os, gzip\n",
    "DATA_PREFIX = os.path.expanduser('~/data')"
   ]
  },
  {
   "cell_type": "markdown",
   "metadata": {},
   "source": [
    "## Downloading the MNIST dataset"
   ]
  },
  {
   "cell_type": "markdown",
   "metadata": {},
   "source": [
    "Let's run the commands that will download a copy of the dataset."
   ]
  },
  {
   "cell_type": "code",
   "execution_count": null,
   "metadata": {
    "collapsed": false
   },
   "outputs": [],
   "source": [
    "%%bash\n",
    "\n",
    "pushd ~/data\n",
    "wget http://www.iro.umontreal.ca/~lisa/deep/data/mnist/mnist.pkl.gz\n",
    "popd"
   ]
  },
  {
   "cell_type": "markdown",
   "metadata": {},
   "source": [
    "We only need to run the above command once. After that, we can verify that the file exists."
   ]
  },
  {
   "cell_type": "code",
   "execution_count": 7,
   "metadata": {
    "collapsed": false
   },
   "outputs": [
    {
     "name": "stdout",
     "output_type": "stream",
     "text": [
      "/home/nikita/data/mnist.pkl.gz\r\n"
     ]
    }
   ],
   "source": [
    "!ls ~/data/mnist.pkl.gz"
   ]
  },
  {
   "cell_type": "markdown",
   "metadata": {},
   "source": [
    "### Loading the Dataset into Memory"
   ]
  },
  {
   "cell_type": "markdown",
   "metadata": {},
   "source": [
    "Now we can create a snippet that loads the MNIST dataset"
   ]
  },
  {
   "cell_type": "code",
   "execution_count": 8,
   "metadata": {
    "collapsed": true
   },
   "outputs": [],
   "source": [
    "mnist_dataset = SnippetCollector()\n",
    "\n",
    "@mnist_dataset\n",
    "def make_shared(datasets, x_cast=None, y_cast='int32'):\n",
    "    \"\"\"Takes as input an iteratable of (x,y) pairs\n",
    "    Each x/y is stored into a Theano shared variable\n",
    "    Shared variables are better for taking advantage of the GPU\"\"\"\n",
    "    res = []\n",
    "    for set_x, set_y in datasets:\n",
    "        set_x = theano.shared(np.asarray(set_x, dtype=floatX))\n",
    "        if x_cast:\n",
    "            set_x = T.cast(set_x, x_cast)\n",
    "        set_y = theano.shared(np.asarray(set_y, dtype=floatX))\n",
    "        if y_cast:\n",
    "            set_y = T.cast(set_y, y_cast)\n",
    "        res.append((set_x, set_y))\n",
    "    return tuple(res)\n",
    "\n",
    "@mnist_dataset\n",
    "def load_mnist():\n",
    "    import gzip\n",
    "    with gzip.open(os.path.join(DATA_PREFIX, 'mnist.pkl.gz'), 'rb') as f:\n",
    "        datasets = pickle.load(f, encoding='latin1')\n",
    "    \n",
    "    return make_shared(datasets)"
   ]
  },
  {
   "cell_type": "code",
   "execution_count": 9,
   "metadata": {
    "collapsed": false
   },
   "outputs": [],
   "source": [
    "%%snip mnist_dataset\n",
    "datasets = load_mnist() # Actually load the data into memory"
   ]
  },
  {
   "cell_type": "markdown",
   "metadata": {},
   "source": [
    "For our classifier later on, we need to know the dimensionality of the input vector, as well as the number of output classes"
   ]
  },
  {
   "cell_type": "code",
   "execution_count": 10,
   "metadata": {
    "collapsed": true
   },
   "outputs": [],
   "source": [
    "%%snip mnist_dataset\n",
    "\n",
    "n_in = int(datasets[0][0].shape[1].eval()) # Dimensionality of the input vectors\n",
    "n_out = 10 # We have 10 output classes, '0'...'9'"
   ]
  },
  {
   "cell_type": "markdown",
   "metadata": {},
   "source": [
    "Having (at least parts of) the dataset in local memory is useful for examining it and gaining intuition.\n",
    "\n",
    "The images in MNIST are 28x28 with float-valued pixels, so we expect the input dimensionality to be $28^2$."
   ]
  },
  {
   "cell_type": "code",
   "execution_count": 11,
   "metadata": {
    "collapsed": false
   },
   "outputs": [
    {
     "data": {
      "text/plain": [
       "28.0"
      ]
     },
     "execution_count": 11,
     "metadata": {},
     "output_type": "execute_result"
    }
   ],
   "source": [
    "import math\n",
    "math.sqrt(n_in)"
   ]
  },
  {
   "cell_type": "markdown",
   "metadata": {},
   "source": [
    "We can also visualize individual data entries in the notebook."
   ]
  },
  {
   "cell_type": "code",
   "execution_count": 12,
   "metadata": {
    "collapsed": false
   },
   "outputs": [],
   "source": [
    "from matplotlib import pyplot as plt\n",
    "%matplotlib inline"
   ]
  },
  {
   "cell_type": "code",
   "execution_count": 99,
   "metadata": {
    "collapsed": false
   },
   "outputs": [
    {
     "data": {
      "text/plain": [
       "<matplotlib.text.Text at 0x7f56ef7be1d0>"
      ]
     },
     "execution_count": 99,
     "metadata": {},
     "output_type": "execute_result"
    },
    {
     "data": {
      "image/png": "[encoded data removed]",
      "text/plain": [
       "<matplotlib.figure.Figure at 0x7f56ef8326d8>"
      ]
     },
     "metadata": {},
     "output_type": "display_data"
    }
   ],
   "source": [
    "def draw_image(dataset, number):\n",
    "    plt.imshow(dataset[0][number,:].eval().reshape((28, 28)), cmap='gray')\n",
    "\n",
    "def get_label(dataset, number):\n",
    "    return int(dataset[1][number].eval())\n",
    "\n",
    "draw_image(datasets[0], # Training data\n",
    "           1)\n",
    "plt.title('Label is {}'.format(get_label(datasets[0], 1)))"
   ]
  },
  {
   "cell_type": "markdown",
   "metadata": {},
   "source": [
    "## The Model"
   ]
  },
  {
   "cell_type": "markdown",
   "metadata": {},
   "source": [
    "Logistic regression is a probabilistic, linear classifier. It is parametrized\n",
    "by a weight matrix $W$ and a bias vector $b$. Classification is\n",
    "done by projecting an input vector onto a set of hyperplanes, each of which\n",
    "corresponds to a class. The distance from the input to a hyperplane reflects\n",
    "the probability that the input is a member of the corresponding class.\n",
    "\n",
    "Mathematically, the probability that an input vector $x$ is a member of a\n",
    "class $i$, a value of a stochastic variable $Y$, can be written as:\n",
    "\n",
    "$$P(Y=i|x, W,b) = softmax_i(W x + b) = \\frac {e^{W_i x + b_i}} {\\sum_j e^{W_j x + b_j}}$$\n",
    "\n",
    "The model's prediction $y_{pred}$ is the class whose probability is maximal, specifically:\n",
    "\n",
    "$$y_{pred} = {\\rm argmax}_i P(Y=i|x,W,b)$$\n",
    "\n",
    "Let's implement this in Theano."
   ]
  },
  {
   "cell_type": "code",
   "execution_count": 14,
   "metadata": {
    "collapsed": true
   },
   "outputs": [],
   "source": [
    "model = SnippetCollector()"
   ]
  },
  {
   "cell_type": "markdown",
   "metadata": {},
   "source": [
    "First we create symbolic variables for our input (x and y represent a minibatch)"
   ]
  },
  {
   "cell_type": "code",
   "execution_count": 15,
   "metadata": {
    "collapsed": true
   },
   "outputs": [],
   "source": [
    "%%snip model\n",
    "x = T.matrix('x') \n",
    "y = T.ivector('y')"
   ]
  },
  {
   "cell_type": "markdown",
   "metadata": {},
   "source": [
    "Then we define the core of the Logistic Regression"
   ]
  },
  {
   "cell_type": "code",
   "execution_count": 16,
   "metadata": {
    "collapsed": false
   },
   "outputs": [],
   "source": [
    "%%snip model\n",
    "# initialize with 0 the weights W as a matrix of shape (n_in, n_out)\n",
    "W = theano.shared(\n",
    "    value=np.zeros(\n",
    "        (n_in, n_out),\n",
    "        dtype=floatX\n",
    "    ),\n",
    "    name='W',\n",
    "    borrow=True\n",
    ")\n",
    "# initialize the biases b as a vector of n_out 0s\n",
    "b = theano.shared(\n",
    "    value=np.zeros(\n",
    "        (n_out,),\n",
    "        dtype=floatX\n",
    "    ),\n",
    "    name='b',\n",
    "    borrow=True\n",
    ")\n",
    "\n",
    "# symbolic expression for computing the matrix of class-membership\n",
    "# probabilities\n",
    "# Where:\n",
    "# W is a matrix where column-k represent the separation hyperplane for\n",
    "# class-k\n",
    "# x is a matrix where row-j  represents input training sample-j\n",
    "# b is a vector where element-k represent the free parameter of\n",
    "# hyperplane-k\n",
    "p_y_given_x = T.nnet.softmax(T.dot(x, W) + b)\n",
    "\n",
    "# symbolic description of how to compute prediction as class whose\n",
    "# probability is maximal\n",
    "y_pred = T.argmax(p_y_given_x, axis=1)"
   ]
  },
  {
   "cell_type": "markdown",
   "metadata": {},
   "source": [
    "Since the parameters of the model must maintain a persistent state throughout\n",
    "training, we allocate shared variables for $W$, $b$. This declares them both\n",
    "as being symbolic Theano variables, but also initializes their contents. The\n",
    "dot and softmax operators are then used to compute the vector $P(Y|x,\n",
    "W,b)$. The result `p_y_given_x` is a symbolic variable of vector-type.\n",
    "\n",
    "To get the actual model prediction, we can use the `T.argmax` operator, which\n",
    "will return the index at which `p_y_given_x` is maximal (i.e. the class with\n",
    "maximum probability).\n",
    "\n",
    "Now of course, the model we have defined so far does not do anything useful\n",
    "yet, since its parameters are still in their initial state. But we can still evaluate the model predictions to make sure the code does not raise any exceptions."
   ]
  },
  {
   "cell_type": "code",
   "execution_count": 17,
   "metadata": {
    "collapsed": false
   },
   "outputs": [
    {
     "data": {
      "text/plain": [
       "array([0, 0])"
      ]
     },
     "execution_count": 17,
     "metadata": {},
     "output_type": "execute_result"
    }
   ],
   "source": [
    "# Predicted label for the first two images\n",
    "y_pred.eval({x: datasets[0][0][:2,:].eval()})"
   ]
  },
  {
   "cell_type": "markdown",
   "metadata": {},
   "source": [
    "## Defining a Loss Function"
   ]
  },
  {
   "cell_type": "markdown",
   "metadata": {},
   "source": [
    "Learning optimal model parameters involves minimizing a loss function. In the\n",
    "case of multi-class logistic regression, it is very common to use the negative\n",
    "log-likelihood as the loss. This is equivalent to maximizing the likelihood of the\n",
    "data set $D$ under the model parameterized by $\\theta$. Let\n",
    "us first start by defining the log-likelihood $L$ and loss $\\ell$:\n",
    "\n",
    "$$ L(\\theta=\\{W,b\\}, D) = \\sum_{i=0}^{|D|} \\log(P(Y=y^{(i)}|x^{(i)}, W,b)))$$\n",
    "$$ \\ell (\\theta = \\{W,b\\}, D) = - L (\\theta=\\{W,b\\}, D) $$\n",
    "\n",
    "Let us define the (symbolic) loss for a given minibatch."
   ]
  },
  {
   "cell_type": "code",
   "execution_count": 18,
   "metadata": {
    "collapsed": true
   },
   "outputs": [],
   "source": [
    "%%snip model\n",
    "cost = -T.mean(T.log(p_y_given_x)[T.arange(y.shape[0]), y])"
   ]
  },
  {
   "cell_type": "markdown",
   "metadata": {},
   "source": [
    "*Even though the loss is formally defined as the sum, over the data set, of individual error terms, in practice, we use the mean (`T.mean`) in the code. This allows for the learning rate choice to be less dependent of the minibatch size.*"
   ]
  },
  {
   "cell_type": "code",
   "execution_count": 19,
   "metadata": {
    "collapsed": false
   },
   "outputs": [
    {
     "data": {
      "text/plain": [
       "array(2.302585092994046)"
      ]
     },
     "execution_count": 19,
     "metadata": {},
     "output_type": "execute_result"
    }
   ],
   "source": [
    "# We can evaluate the cost for the first two images\n",
    "# (again, this tests that there are no exceptions)\n",
    "cost.eval({x: datasets[0][0][:2,:].eval(),\n",
    "           y: datasets[0][1][:2].eval()})"
   ]
  },
  {
   "cell_type": "markdown",
   "metadata": {},
   "source": [
    "## Learning the Model"
   ]
  },
  {
   "cell_type": "markdown",
   "metadata": {},
   "source": [
    "To train the model, we will use stochastic gradient descient with minibatches. \n",
    "\n",
    "This is a good time to bring up how `nbjob` handles hyperparameters. We use a `ParamLogger` to collect hyperparameter values. Each time we launch a job, we will have the option of adjusting the hyperparameters using slider widgets. They can also be changed using code."
   ]
  },
  {
   "cell_type": "code",
   "execution_count": 23,
   "metadata": {
    "collapsed": true
   },
   "outputs": [],
   "source": [
    "model_sgd = SnippetCollector()\n",
    "hparams = ParamLogger()"
   ]
  },
  {
   "cell_type": "code",
   "execution_count": 24,
   "metadata": {
    "collapsed": true
   },
   "outputs": [],
   "source": [
    "hparams.learning_rate = 0.01\n",
    "hparams.batch_size = 500"
   ]
  },
  {
   "cell_type": "markdown",
   "metadata": {},
   "source": [
    "We can use Theano to get the gradients $\\partial\\ell/\\partial W$ and $\\partial\\ell/\\partial b$ using Theano."
   ]
  },
  {
   "cell_type": "code",
   "execution_count": 25,
   "metadata": {
    "collapsed": false
   },
   "outputs": [],
   "source": [
    "%%snip model_sgd\n",
    "g_W, g_b = T.grad(cost, [W, b])"
   ]
  },
  {
   "cell_type": "markdown",
   "metadata": {},
   "source": [
    "The function `train_model`, which performs one step of gradient descent, can then be defined as follows:"
   ]
  },
  {
   "cell_type": "code",
   "execution_count": 26,
   "metadata": {
    "collapsed": true
   },
   "outputs": [],
   "source": [
    "%%snip model_sgd\n",
    "# specify how to update the parameters of the model as a list of\n",
    "# (variable, update expression) pairs.\n",
    "updates = [(W, W - hparams.learning_rate * g_W),\n",
    "           (b, b - hparams.learning_rate * g_b)]\n",
    "\n",
    "index = T.lscalar()  # index to a [mini]batch\n",
    "\n",
    "train_set_x, train_set_y = datasets[0]\n",
    "\n",
    "# compiling a Theano function `train_model` that returns the cost, but in\n",
    "# the same time updates the parameter of the model based on the rules\n",
    "# defined in `updates`\n",
    "train_model = theano.function(\n",
    "    inputs=[index],\n",
    "    outputs=cost,\n",
    "    updates=updates,\n",
    "    givens={\n",
    "        x: train_set_x[index * hparams.batch_size: (index + 1) * hparams.batch_size],\n",
    "        y: train_set_y[index * hparams.batch_size: (index + 1) * hparams.batch_size]\n",
    "    }\n",
    ")"
   ]
  },
  {
   "cell_type": "markdown",
   "metadata": {},
   "source": [
    "Again, we can test the gradient step locally to ensure that everything works as expected. (Ability to test small pieces on a regular basis is a major benefit to using Jupyter notebook over script files)"
   ]
  },
  {
   "cell_type": "code",
   "execution_count": 27,
   "metadata": {
    "collapsed": false
   },
   "outputs": [
    {
     "name": "stdout",
     "output_type": "stream",
     "text": [
      "Old cost 2.3025850929940463\n",
      "New cost 2.2891778790230446\n"
     ]
    }
   ],
   "source": [
    "print('Old cost', cost.eval({x: datasets[0][0][:hparams.batch_size,:].eval(),\n",
    "                             y: datasets[0][1][:hparams.batch_size].eval()}))\n",
    "train_model(0)\n",
    "print('New cost', cost.eval({x: datasets[0][0][:hparams.batch_size,:].eval(),\n",
    "                             y: datasets[0][1][:hparams.batch_size].eval()}))"
   ]
  },
  {
   "cell_type": "markdown",
   "metadata": {},
   "source": [
    "After training on the first minibatch, the training cost for that exact batch has gone down. This gives us sufficient confidence that the model is correct, and we now proceed to defining the full training process that we wish to run on the remote worker.\n",
    "\n",
    "We should register checkpoints for key variables that we wish to save through out training. These are\n",
    "* For the model: model parameters\n",
    "* For the training algorithm: epoch and iteration number"
   ]
  },
  {
   "cell_type": "code",
   "execution_count": 42,
   "metadata": {
    "collapsed": false
   },
   "outputs": [],
   "source": [
    "%%snip model\n",
    "# We specify a getter and setter for each variable, because pickling the variables\n",
    "# themselves will disconnect them from the computation graph.\n",
    "def get_params():\n",
    "    return W.get_value(), b.get_value()\n",
    "def set_params(vals):\n",
    "    global W, b\n",
    "    W_val, b_val = vals\n",
    "    W.set_value(W_val)\n",
    "    b.set_value(b_val)\n",
    "jobtracker.register_checkpointer('model_params', 'get_params', 'set_params')\n",
    "\n",
    "# TODO(nikita): we should be able to do the following code instead,\n",
    "#   but having complex expressions in the getter/setter fields is not yet supported\n",
    "#   Complex expressions in the 'name' field are allowed, though.\n",
    "# jobtracker.register_checkpointer('W', 'W.get_value', 'W.set_value')\n",
    "# jobtracker.register_checkpointer('b', 'b.get_value', 'b.set_value')"
   ]
  },
  {
   "cell_type": "code",
   "execution_count": 29,
   "metadata": {
    "collapsed": false
   },
   "outputs": [],
   "source": [
    "%%snip model_sgd\n",
    "epoch, iteration = 0, 0 # global, so they can be checkpointed\n",
    "jobtracker.register_checkpointer('epoch')\n",
    "jobtracker.register_checkpointer('iteration')"
   ]
  },
  {
   "cell_type": "markdown",
   "metadata": {},
   "source": [
    "Then we define the entry point to our training, which will iterate over the data, update the model parameters, and periodically checkpoint"
   ]
  },
  {
   "cell_type": "code",
   "execution_count": 44,
   "metadata": {
    "collapsed": false
   },
   "outputs": [],
   "source": [
    "hparams.checkpoint_frequency = hparams.batch_size * 5\n",
    "hparams.max_epochs = 10"
   ]
  },
  {
   "cell_type": "code",
   "execution_count": 58,
   "metadata": {
    "collapsed": true
   },
   "outputs": [],
   "source": [
    "@model_sgd\n",
    "def sgd_train():\n",
    "    global epoch, iteration # global, so they can be checkpointed\n",
    "    n_train_batches = int(train_set_x.shape[0].eval() // hparams.batch_size)\n",
    "    epoch = 0\n",
    "    while epoch < hparams.max_epochs:\n",
    "        epoch += 1\n",
    "        for minibatch_index in range(n_train_batches):\n",
    "            # Iteration refers to the number of training examples seen so far\n",
    "            iteration = ((epoch - 1) * n_train_batches + minibatch_index) * hparams.batch_size\n",
    "            minibatch_avg_cost = train_model(minibatch_index)\n",
    "            if (iteration + 1) % hparams.checkpoint_frequency:\n",
    "                # This saves the value of all checkpointed expressions in the database\n",
    "                jobtracker.checkpoint()\n",
    "                print('Minibatch average cost:', minibatch_avg_cost)"
   ]
  },
  {
   "cell_type": "markdown",
   "metadata": {},
   "source": [
    "## Delegate Training Job to an IPython Cluster"
   ]
  },
  {
   "cell_type": "markdown",
   "metadata": {},
   "source": [
    "At this point, make sure that an IPython Cluster is running. We are now ready to connect to it."
   ]
  },
  {
   "cell_type": "code",
   "execution_count": 35,
   "metadata": {
    "collapsed": true
   },
   "outputs": [],
   "source": [
    "import ipyparallel as ipp\n",
    "rc = ipp.Client()"
   ]
  },
  {
   "cell_type": "markdown",
   "metadata": {},
   "source": [
    "Then we can delegate the training procedure to worker 0 in the cluster, denoted by `rc[0]`."
   ]
  },
  {
   "cell_type": "code",
   "execution_count": 59,
   "metadata": {
    "collapsed": false
   },
   "outputs": [
    {
     "name": "stdout",
     "output_type": "stream",
     "text": [
      "Creating remote job\n",
      "Running remote job\n"
     ]
    },
    {
     "data": {
      "text/html": [],
      "text/plain": [
       "<AsyncResult: remote_start_job>"
      ]
     },
     "execution_count": 59,
     "metadata": {},
     "output_type": "execute_result"
    },
    {
     "ename": "RemoteError",
     "evalue": "KeyError('_f4b4e4dd78c94999bee024e5ac30a033_kwargs')",
     "output_type": "error",
     "traceback": [
      "\u001b[1;31m---------------------------------------------------------------------------\u001b[0m\u001b[1;31mKeyError\u001b[0m                                  Traceback (most recent call last)\u001b[1;31mKeyError\u001b[0m: '_f4b4e4dd78c94999bee024e5ac30a033_kwargs'"
     ]
    }
   ],
   "source": [
    "job = db_wrapper.create_job(\n",
    "    rc[0], # Our worker\n",
    "    ['sgd_train()'], # List of strings to run remotely\n",
    "    prelude, mnist_dataset, model, model_sgd, # All of the snippets we wish to run\n",
    "    hparams=hparams, # Our parameter values\n",
    "    )\n",
    "\n",
    "job.result # This opens a widget in our notebook that lets us view stdout from the worker"
   ]
  },
  {
   "cell_type": "markdown",
   "metadata": {},
   "source": [
    "When you run the code above, you will see a widget pop up that lets you adjust hyperparameters and review the code that is about to be sent to the remote job. Click \"OK\" to start the job, or \"Cancel\" if something looks wrong. Don't leave the widget open while you edit other things in the notebook: it might work, but the results aren't guaranteed."
   ]
  },
  {
   "cell_type": "markdown",
   "metadata": {},
   "source": [
    "*Note: the KeyError is not an actual important error, and does not affect using `nbjob`. TODO(nikita): figure out how to silence displaying this error*"
   ]
  },
  {
   "cell_type": "markdown",
   "metadata": {},
   "source": [
    "## Plotting learning curves"
   ]
  },
  {
   "cell_type": "markdown",
   "metadata": {},
   "source": [
    "For the purposes of this tutorial, the training algorithm we defined does not use the validation set. Instead, we can examine the model performance on the validation set separately, by running analyses on the job. First, we define a function that returns figures of interest in a dictionary."
   ]
  },
  {
   "cell_type": "code",
   "execution_count": 60,
   "metadata": {
    "collapsed": false
   },
   "outputs": [
    {
     "data": {
      "text/plain": [
       "{'epoch': 0, 'error': 0.3871, 'iteration': 0}"
      ]
     },
     "execution_count": 60,
     "metadata": {},
     "output_type": "execute_result"
    }
   ],
   "source": [
    "def test_statistics():\n",
    "    global epoch, iteration\n",
    "    error = T.mean(T.neq(y_pred, y))\n",
    "    \n",
    "    valid_set_x, valid_set_y = datasets[1]\n",
    "    \n",
    "    validation_error = theano.function(\n",
    "        inputs=[index],\n",
    "        outputs=error,\n",
    "        givens={\n",
    "            x: valid_set_x[index * hparams.batch_size: (index+1) * hparams.batch_size],\n",
    "            y: valid_set_y[index * hparams.batch_size: (index+1) * hparams.batch_size]\n",
    "        }\n",
    "    )\n",
    "    \n",
    "    current_validation_error = np.mean(\n",
    "        [validation_error(i) for i in range(valid_set_x.shape[0].eval() // hparams.batch_size)]\n",
    "    )\n",
    "    \n",
    "    return {\n",
    "        'epoch': epoch,\n",
    "        'iteration': iteration,\n",
    "        'error': current_validation_error\n",
    "    }\n",
    "\n",
    "# Again, test locally to see that we have defined it correctly\n",
    "# (unfortunately, even local testing takes a while, because the computation graph must be constructed)\n",
    "test_statistics()"
   ]
  },
  {
   "cell_type": "markdown",
   "metadata": {},
   "source": [
    "Now we can start an analysis, which will calculate these statistics throughout the training process"
   ]
  },
  {
   "cell_type": "code",
   "execution_count": 61,
   "metadata": {
    "collapsed": false
   },
   "outputs": [
    {
     "data": {
      "text/html": [],
      "text/plain": [
       "<AsyncResult: remote_start_analyzer>"
      ]
     },
     "execution_count": 61,
     "metadata": {},
     "output_type": "execute_result"
    },
    {
     "ename": "RemoteError",
     "evalue": "KeyError('_fc3184bc53484632a959c702f62ba40a_kwargs')",
     "output_type": "error",
     "traceback": [
      "\u001b[1;31m---------------------------------------------------------------------------\u001b[0m\u001b[1;31mKeyError\u001b[0m                                  Traceback (most recent call last)\u001b[1;31mKeyError\u001b[0m: '_fc3184bc53484632a959c702f62ba40a_kwargs'"
     ]
    }
   ],
   "source": [
    "analyzer = db_wrapper.create_analyzer(\n",
    "    rc[1], # A different worker, so it can run even if training is still ongoing\n",
    "    job,\n",
    "    [test_statistics])\n",
    "analyzer.result"
   ]
  },
  {
   "cell_type": "markdown",
   "metadata": {},
   "source": [
    "We can monitor the progress of our job and analysis from the dashboard."
   ]
  },
  {
   "cell_type": "code",
   "execution_count": 41,
   "metadata": {
    "collapsed": true
   },
   "outputs": [],
   "source": [
    "# Unfortunately, widgets are not rendered in the HTML version of this notebook\n",
    "nbjob.make_default_dashboard()"
   ]
  },
  {
   "cell_type": "markdown",
   "metadata": {},
   "source": [
    "We can also inspect the progress by querying the analyzer for a list of output dictionaries, and then plotting the learning curve."
   ]
  },
  {
   "cell_type": "code",
   "execution_count": 101,
   "metadata": {
    "collapsed": false
   },
   "outputs": [
    {
     "data": {
      "text/plain": [
       "[<matplotlib.lines.Line2D at 0x7f56ef799748>]"
      ]
     },
     "execution_count": 101,
     "metadata": {},
     "output_type": "execute_result"
    },
    {
     "data": {
      "image/png": "[encoded data removed]",
      "text/plain": [
       "<matplotlib.figure.Figure at 0x7f56f1963400>"
      ]
     },
     "metadata": {},
     "output_type": "display_data"
    }
   ],
   "source": [
    "# If the analyzer is not done, this graph will not plot the entire duration of training\n",
    "xs = []\n",
    "ys = []\n",
    "iterations_per_epoch = datasets[0][0].shape[0].eval()\n",
    "for d in analyzer.get_results():\n",
    "    xs.append(d['iteration'] / iterations_per_epoch)\n",
    "    ys.append(d['error'])\n",
    "plt.title('Learning curve')\n",
    "plt.xlabel('Number of times through the data')\n",
    "plt.ylabel('Validation set error')\n",
    "plt.plot(xs, ys)"
   ]
  },
  {
   "cell_type": "markdown",
   "metadata": {},
   "source": [
    "## Predicting using the final trained model"
   ]
  },
  {
   "cell_type": "markdown",
   "metadata": {},
   "source": [
    "`nbjob` also lets us inspect quantities related to the final trained model. To do this, we first make sure one of the workers is holding the job in memory. At the moment `rc[0]` has a copy of the model (because it was used for training), as does `rc[1]` (assuming the analysis ran to completion).\n",
    "\n",
    "We use `ipyparallel`'s capability to issue commands to a remote worker."
   ]
  },
  {
   "cell_type": "code",
   "execution_count": 76,
   "metadata": {
    "collapsed": true
   },
   "outputs": [],
   "source": [
    "rc[0].activate('_0') # This creates the cell magic %%px_0, which addresses worker 0"
   ]
  },
  {
   "cell_type": "code",
   "execution_count": 94,
   "metadata": {
    "collapsed": false
   },
   "outputs": [
    {
     "data": {
      "text/html": [],
      "text/plain": [
       "<AsyncResult: execute>"
      ]
     },
     "execution_count": 94,
     "metadata": {},
     "output_type": "execute_result"
    },
    {
     "data": {
      "text/plain": [
       "Out[0:41]: array([3, 8, 6, 9, 6])"
      ]
     },
     "metadata": {},
     "output_type": "display_data"
    }
   ],
   "source": [
    "%%px_0\n",
    "index_start = 0\n",
    "index_end = 5\n",
    "indices = range(index_start, index_end)\n",
    "predicted = y_pred.eval({x: datasets[1][0][index_start:index_end,:].eval()})\n",
    "predicted"
   ]
  },
  {
   "cell_type": "markdown",
   "metadata": {},
   "source": [
    "`ipyparellel` provides a nice syntax for pulling remote variables into the local namespace:"
   ]
  },
  {
   "cell_type": "code",
   "execution_count": 95,
   "metadata": {
    "collapsed": false
   },
   "outputs": [
    {
     "data": {
      "text/plain": [
       "array([3, 8, 6, 9, 6])"
      ]
     },
     "execution_count": 95,
     "metadata": {},
     "output_type": "execute_result"
    }
   ],
   "source": [
    "rc[0]['predicted']"
   ]
  },
  {
   "cell_type": "markdown",
   "metadata": {},
   "source": [
    "We can use this to visualize the results (this is run locally so we don't have to enable matplotlib on the worker)"
   ]
  },
  {
   "cell_type": "code",
   "execution_count": 96,
   "metadata": {
    "collapsed": false,
    "scrolled": true
   },
   "outputs": [
    {
     "data": {
      "image/png": "[encoded data removed]",
      "text/plain": [
       "<matplotlib.figure.Figure at 0x7f56f15e3438>"
      ]
     },
     "metadata": {},
     "output_type": "display_data"
    },
    {
     "data": {
      "image/png": "[encoded data removed]",
      "text/plain": [
       "<matplotlib.figure.Figure at 0x7f56f15b8940>"
      ]
     },
     "metadata": {},
     "output_type": "display_data"
    },
    {
     "data": {
      "image/png": "[encoded data removed]",
      "text/plain": [
       "<matplotlib.figure.Figure at 0x7f56f15b1eb8>"
      ]
     },
     "metadata": {},
     "output_type": "display_data"
    },
    {
     "data": {
      "image/png": "[encoded data removed]",
      "text/plain": [
       "<matplotlib.figure.Figure at 0x7f56f151c5f8>"
      ]
     },
     "metadata": {},
     "output_type": "display_data"
    },
    {
     "data": {
      "image/png": "[encoded data removed]",
      "text/plain": [
       "<matplotlib.figure.Figure at 0x7f56f14ebc88>"
      ]
     },
     "metadata": {},
     "output_type": "display_data"
    }
   ],
   "source": [
    "def viz_prediction(dataset, number, pred):\n",
    "    plt.figure()\n",
    "    plt.imshow(dataset[0][number,:].eval().reshape((28, 28)), cmap='gray')\n",
    "    plt.title('Gold: {} / Predicted: {}'.format(\n",
    "            dataset[1][number].eval(),\n",
    "            pred\n",
    "        ))\n",
    "\n",
    "for i, p in zip(rc[0]['indices'], rc[0]['predicted']):\n",
    "    viz_prediction(datasets[1], i, p)"
   ]
  },
  {
   "cell_type": "markdown",
   "metadata": {},
   "source": [
    "We can also use `ipyparallel`'s remote apply capabilities to achieve a similar effect, with slightly different code."
   ]
  },
  {
   "cell_type": "code",
   "execution_count": 97,
   "metadata": {
    "collapsed": false,
    "scrolled": true
   },
   "outputs": [
    {
     "data": {
      "image/png": "[encoded data removed]",
      "text/plain": [
       "<matplotlib.figure.Figure at 0x7f56f15fa9b0>"
      ]
     },
     "metadata": {},
     "output_type": "display_data"
    },
    {
     "data": {
      "image/png": "[encoded data removed]",
      "text/plain": [
       "<matplotlib.figure.Figure at 0x7f56f17a22b0>"
      ]
     },
     "metadata": {},
     "output_type": "display_data"
    },
    {
     "data": {
      "image/png": "[encoded data removed]",
      "text/plain": [
       "<matplotlib.figure.Figure at 0x7f56f15f21d0>"
      ]
     },
     "metadata": {},
     "output_type": "display_data"
    }
   ],
   "source": [
    "def do_predict(index_start, index_end):\n",
    "    return y_pred.eval({x: datasets[1][0][index_start:index_end,:].eval()})\n",
    "\n",
    "def viz_range(index_start, index_end):\n",
    "    for i, p in zip(range(index_start, index_end), rc[0].apply(do_predict, index_start, index_end).result):\n",
    "        viz_prediction(datasets[1], i, p)\n",
    "\n",
    "viz_range(5, 8)"
   ]
  },
  {
   "cell_type": "markdown",
   "metadata": {},
   "source": [
    "## Closing thoughts\n",
    "\n",
    "Thus far, we have only run training for two epochs. You can re-issue the training job with a greater epoch setting to specify a larger training time. (You may need to lower the checkpointing frequency to prevent excessive amounts of data from being shuffled around).\n",
    "\n",
    "In an actual research setting, it makes sense to do checkpointing based on the validation performance, which we have not done here.\n",
    "\n",
    "For this tutorial, we have chosen to forego object-oriented programming and not define any classes. In continuous use, it is actually better to move code into classes. This is especially true because whenever you redefine a class  or function (e.g. because your previous definition had a mistake) the `SnippetCollector` automatically discards the old definition. On the other hand, individual cell runs that contain erroneous code must be pruned manually (e.g. in the widget shown right before you launch a job)"
   ]
  }
 ],
 "metadata": {
  "kernelspec": {
   "display_name": "Python 3",
   "language": "python",
   "name": "python3"
  },
  "language_info": {
   "codemirror_mode": {
    "name": "ipython",
    "version": 3
   },
   "file_extension": ".py",
   "mimetype": "text/x-python",
   "name": "python",
   "nbconvert_exporter": "python",
   "pygments_lexer": "ipython3",
   "version": "3.4.3"
  }
 },
 "nbformat": 4,
 "nbformat_minor": 0
}
