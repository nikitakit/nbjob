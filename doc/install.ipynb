{
 "cells": [
  {
   "cell_type": "markdown",
   "metadata": {},
   "source": [
    "# nbjob - Installation\n",
    "[Home](index.html) | Previous: [Background](background.html) | Next: [Tutorial](tutorial.html)"
   ]
  },
  {
   "cell_type": "markdown",
   "metadata": {},
   "source": [
    "<strong style='color:red'>WARNING:</strong> this package is in a pre-alpha state."
   ]
  },
  {
   "cell_type": "markdown",
   "metadata": {},
   "source": [
    "Installation is currently only available via GitHub. To install:"
   ]
  },
  {
   "cell_type": "code",
   "execution_count": null,
   "metadata": {
    "collapsed": false
   },
   "outputs": [],
   "source": [
    "!pip install git+git://github.com/nikitakit/nbjob.git@master"
   ]
  },
  {
   "cell_type": "markdown",
   "metadata": {},
   "source": [
    "### Dependencies\n",
    "#### Python 3.4 or later\n",
    "Older versions of Python have not been tested. In particular, Python 2 support is not yet available.\n",
    "\n",
    "#### ipyparallel\n",
    "`nbjob` sends out jobs to workers that are part of an IPython Cluster. The `ipyparallel` module is installed as a dependency of `nbjob`, but the cluster itself must be launched separately. For simple workloads, the cluster can be started on the local machine (with 1 worker per CPU), using the `IPython Clusters` tab in the Jupyter notebook.\n",
    "\n",
    "To install the `IPython Clusters` tab in Jupyter Notebook, add this to your `jupyter_notebook_config.py`:\n",
    "\n",
    "```python\n",
    "c.NotebookApp.server_extensions.append('ipyparallel.nbextension')\n",
    "```\n",
    "\n",
    "See the [documentation on configuring the notebook server](https://jupyter-notebook.readthedocs.org/en/latest/public_server.html)\n",
    "to find your config or setup your initial `jupyter_notebook_config.py`.\n",
    "\n",
    "#### MongoDB\n",
    "The `pymongo` wrapper is installed as a dependency of `nbjob`, but need to also install and launch an actual MongoDB database. See [the MongoDB website](https://www.mongodb.org/downloads#production) for instructions. Currently, `nbjob` expects MongoDB to be running locally with the default port configuration."
   ]
  }
 ],
 "metadata": {
  "kernelspec": {
   "display_name": "Python 3",
   "language": "python",
   "name": "python3"
  },
  "language_info": {
   "codemirror_mode": {
    "name": "ipython",
    "version": 3
   },
   "file_extension": ".py",
   "mimetype": "text/x-python",
   "name": "python",
   "nbconvert_exporter": "python",
   "pygments_lexer": "ipython3",
   "version": "3.4.3"
  }
 },
 "nbformat": 4,
 "nbformat_minor": 0
}
